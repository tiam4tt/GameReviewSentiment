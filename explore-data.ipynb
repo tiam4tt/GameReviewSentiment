{
 "cells": [
  {
   "cell_type": "markdown",
   "metadata": {},
   "source": [
    "<h2 style=\"font-weight: bold;\">Explore data </h2>"
   ]
  },
  {
   "cell_type": "code",
   "execution_count": null,
   "metadata": {},
   "outputs": [
    {
     "name": "stdout",
     "output_type": "stream",
     "text": [
      "<class 'pandas.core.frame.DataFrame'>\n",
      "RangeIndex: 62342 entries, 0 to 62341\n",
      "Data columns (total 8 columns):\n",
      " #   Column             Non-Null Count  Dtype  \n",
      "---  ------             --------------  -----  \n",
      " 0   Game Title         62342 non-null  object \n",
      " 1   Game Genre         62342 non-null  object \n",
      " 2   Pricing            62342 non-null  float64\n",
      " 3   Developer          62342 non-null  object \n",
      " 4   Release Date       62342 non-null  object \n",
      " 5   Platform           62342 non-null  object \n",
      " 6   Rating             62342 non-null  float64\n",
      " 7   Number of Ratings  62342 non-null  int64  \n",
      "dtypes: float64(2), int64(1), object(5)\n",
      "memory usage: 3.8+ MB\n"
     ]
    },
    {
     "data": {
      "text/html": [
       "<div>\n",
       "<style scoped>\n",
       "    .dataframe tbody tr th:only-of-type {\n",
       "        vertical-align: middle;\n",
       "    }\n",
       "\n",
       "    .dataframe tbody tr th {\n",
       "        vertical-align: top;\n",
       "    }\n",
       "\n",
       "    .dataframe thead th {\n",
       "        text-align: right;\n",
       "    }\n",
       "</style>\n",
       "<table border=\"1\" class=\"dataframe\">\n",
       "  <thead>\n",
       "    <tr style=\"text-align: right;\">\n",
       "      <th></th>\n",
       "      <th>Game Title</th>\n",
       "      <th>Game Genre</th>\n",
       "      <th>Pricing</th>\n",
       "      <th>Developer</th>\n",
       "      <th>Release Date</th>\n",
       "      <th>Platform</th>\n",
       "      <th>Rating</th>\n",
       "      <th>Number of Ratings</th>\n",
       "    </tr>\n",
       "  </thead>\n",
       "  <tbody>\n",
       "    <tr>\n",
       "      <th>0</th>\n",
       "      <td>! That Bastard Is Trying To Steal Our Gold !</td>\n",
       "      <td>Action, Adventure, Casual, Indie</td>\n",
       "      <td>2.99</td>\n",
       "      <td>WTFOMGames</td>\n",
       "      <td>Mar 1 2016</td>\n",
       "      <td>PC</td>\n",
       "      <td>56.0</td>\n",
       "      <td>66</td>\n",
       "    </tr>\n",
       "    <tr>\n",
       "      <th>1</th>\n",
       "      <td>! Wild Russia !</td>\n",
       "      <td>Action, Adventure, Casual</td>\n",
       "      <td>19.99</td>\n",
       "      <td>Andreev Worlds</td>\n",
       "      <td>Apr 28 2020</td>\n",
       "      <td>PC</td>\n",
       "      <td>61.0</td>\n",
       "      <td>60</td>\n",
       "    </tr>\n",
       "    <tr>\n",
       "      <th>2</th>\n",
       "      <td>!4RC4N01D!</td>\n",
       "      <td>Arcade</td>\n",
       "      <td>0.00</td>\n",
       "      <td>armogames</td>\n",
       "      <td>Jan 12, 2018</td>\n",
       "      <td>PC</td>\n",
       "      <td>4.0</td>\n",
       "      <td>4</td>\n",
       "    </tr>\n",
       "    <tr>\n",
       "      <th>3</th>\n",
       "      <td>!4RC4N01D! 2: Retro Edition</td>\n",
       "      <td>Arcade</td>\n",
       "      <td>0.00</td>\n",
       "      <td>armogames</td>\n",
       "      <td>Feb 6, 2018</td>\n",
       "      <td>PC</td>\n",
       "      <td>3.8</td>\n",
       "      <td>4</td>\n",
       "    </tr>\n",
       "    <tr>\n",
       "      <th>4</th>\n",
       "      <td>!4RC4N01D! 3: Cold Space</td>\n",
       "      <td>Arcade</td>\n",
       "      <td>0.00</td>\n",
       "      <td>armogames</td>\n",
       "      <td>Mar 8, 2018</td>\n",
       "      <td>PC</td>\n",
       "      <td>3.0</td>\n",
       "      <td>4</td>\n",
       "    </tr>\n",
       "  </tbody>\n",
       "</table>\n",
       "</div>"
      ],
      "text/plain": [
       "                                     Game Title  \\\n",
       "0  ! That Bastard Is Trying To Steal Our Gold !   \n",
       "1                               ! Wild Russia !   \n",
       "2                                    !4RC4N01D!   \n",
       "3                   !4RC4N01D! 2: Retro Edition   \n",
       "4                      !4RC4N01D! 3: Cold Space   \n",
       "\n",
       "                         Game Genre  Pricing       Developer  Release Date  \\\n",
       "0  Action, Adventure, Casual, Indie     2.99      WTFOMGames    Mar 1 2016   \n",
       "1         Action, Adventure, Casual    19.99  Andreev Worlds   Apr 28 2020   \n",
       "2                            Arcade     0.00       armogames  Jan 12, 2018   \n",
       "3                            Arcade     0.00       armogames   Feb 6, 2018   \n",
       "4                            Arcade     0.00       armogames   Mar 8, 2018   \n",
       "\n",
       "  Platform  Rating  Number of Ratings  \n",
       "0       PC    56.0                 66  \n",
       "1       PC    61.0                 60  \n",
       "2       PC     4.0                  4  \n",
       "3       PC     3.8                  4  \n",
       "4       PC     3.0                  4  "
      ]
     },
     "execution_count": 4,
     "metadata": {},
     "output_type": "execute_result"
    }
   ],
   "source": [
    "import pandas as pd\n",
    "import matplotlib.pyplot as plt\n",
    "import seaborn as sns\n",
    "import numpy as np\n",
    "\n",
    "df = pd.read_csv('cleaned_data.csv')\n",
    "\n",
    "df.info()\n",
    "df.head()"
   ]
  },
  {
   "cell_type": "markdown",
   "metadata": {},
   "source": [
    "### Meaning of each column\n",
    "\n",
    "- Game Title: Title of the game\n",
    "- Game Genre: Genre(s) of the game\n",
    "- Pricing: Price of the game in USD\n",
    "- Developer': Developer of the game\n",
    "- Release Date: Release date of the game\n",
    "- Platform: Platform on which the game is available\n",
    "- Rating: Rating of the game\n",
    "- Number of Ratings: Number of ratings received by the game"
   ]
  },
  {
   "cell_type": "code",
   "execution_count": null,
   "metadata": {
    "vscode": {
     "languageId": "r"
    }
   },
   "outputs": [],
   "source": [
    "# Display the current data type of each column\n",
    "print(\"Data Types:\")\n",
    "print(df.dtypes)"
   ]
  },
  {
   "cell_type": "markdown",
   "metadata": {},
   "source": [
    "### Distribution of Values for Each Column\n",
    "Display the distribution of values for each column using descriptive statistics and visualizations."
   ]
  },
  {
   "cell_type": "code",
   "execution_count": null,
   "metadata": {},
   "outputs": [],
   "source": [
    "# Display the distribution of values for each column using descriptive statistics\n",
    "print(\"\\nDescriptive Statistics for Numerical Columns:\")\n",
    "print(df.describe())\n",
    "\n",
    "print(\"\\nDescriptive Statistics for Object Columns:\")\n",
    "print(df.describe(include=[object]))\n",
    "\n",
    "# Set the aesthetic style of the plots\n",
    "sns.set(style=\"whitegrid\")\n",
    "\n",
    "# Plot distribution for numerical columns\n",
    "numerical_columns = df.select_dtypes(include=[np.number]).columns\n",
    "for column in numerical_columns:\n",
    "    plt.figure(figsize=(10, 6))\n",
    "    sns.histplot(df[column], kde=True)\n",
    "    plt.title(f'Distribution of {column}')\n",
    "    plt.xlabel(column)\n",
    "    plt.ylabel('Frequency')\n",
    "    plt.show()\n"
   ]
  }
 ],
 "metadata": {
  "kernelspec": {
   "display_name": "Python 3",
   "language": "python",
   "name": "python3"
  },
  "language_info": {
   "codemirror_mode": {
    "name": "ipython",
    "version": 3
   },
   "file_extension": ".py",
   "mimetype": "text/x-python",
   "name": "python",
   "nbconvert_exporter": "python",
   "pygments_lexer": "ipython3",
   "version": "3.12.4"
  }
 },
 "nbformat": 4,
 "nbformat_minor": 2
}
