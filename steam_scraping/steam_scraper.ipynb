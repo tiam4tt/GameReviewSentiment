{
 "cells": [
  {
   "cell_type": "code",
   "execution_count": null,
   "metadata": {},
   "outputs": [],
   "source": [
    "import requests\n",
    "from bs4 import BeautifulSoup as bs"
   ]
  },
  {
   "cell_type": "code",
   "execution_count": null,
   "metadata": {},
   "outputs": [],
   "source": [
    "headers = {'User-Agent': 'Mozilla/5.0 (Windows NT 10.0; Win64; x64) AppleWebKit/537.36 (KHTML, like Gecko) Chrome/111.0.0.0 Safari/537.36'}\n",
    "\n",
    "def get_game_url():\n",
    "    urls = set()\n",
    "    baseURL = \"https://store.steampowered.com/search/?supportedlang=english&ndl=1&hide_filtered_results_warning=1&ignore_preferences=1&page=\"\n",
    "\n",
    "    page = 1\n",
    "    while (True):\n",
    "        url = f\"{baseURL}{page}\"\n",
    "        page += 1\n",
    "        response = requests.get(url, headers=headers)\n",
    "        \n",
    "        soup = bs(response.text, \"html.parser\")\n",
    "        \n",
    "        anchors = soup.find_all(\"a\", {\"class\": \"search_result_row\"})\n",
    "        \n",
    "        if not anchors:\n",
    "            break\n",
    "        \n",
    "        for a in anchors:\n",
    "            print(a[\"href\"])\n",
    "            urls.add(a[\"href\"])\n",
    "    \n",
    "    return urls"
   ]
  },
  {
   "cell_type": "code",
   "execution_count": null,
   "metadata": {},
   "outputs": [],
   "source": [
    "url_set = get_game_url()\n",
    "print(f\"Total urls: {len(url_set)}\")\n",
    "        "
   ]
  },
  {
   "cell_type": "code",
   "execution_count": null,
   "metadata": {},
   "outputs": [],
   "source": [
    "# Saving to files\n",
    "import os\n",
    "\n",
    "dir_name = \"data\"\n",
    "\n",
    "os.makedirs(dir_name, exist_ok=True)\n",
    "\n",
    "game_url = dir_name + \"/game_urls.txt\"\n",
    "\n",
    "with open(game_url, \"w\") as f:\n",
    "    for url in url_set:\n",
    "        f.write(url + \"\\n\")"
   ]
  },
  {
   "cell_type": "code",
   "execution_count": null,
   "metadata": {},
   "outputs": [
    {
     "name": "stdout",
     "output_type": "stream",
     "text": [
      "Total urls: 196088\n",
      "Total urls (filtered): 154984\n",
      "Removed 41104 urls\n"
     ]
    }
   ],
   "source": [
    "# filter uneccessary urls for faster scraping\n",
    "\n",
    "with open(\"./data/game_urls.txt\", \"r\") as f:\n",
    "    links = f.read().splitlines()\n",
    "\n",
    "games = re.compile(r\".+\\.com/app/.+\")\n",
    "filtered_links = list(filter(lambda x: games.match(x), links))\n",
    "\n",
    "\n",
    "filter_pattern = [\n",
    "    r\".+_?dlc[_/]?.+\",\n",
    "    r\".+_soundtrack[_/]?.+\",\n",
    "    r\".+_costume[_/]?.+\",\n",
    "    r\".+pack[_/]?.+\",\n",
    "    r\".+_addon[_/]?.+\",\n",
    "    r\".+_collection[_/]?.+\",\n",
    "    r\".+_bonus[_/]?.+\",\n",
    "    r\".+_expansion[_/]?.+\",\n",
    "    r\".+_extension[_/]?.+\",\n",
    "    r\".+_skin[s]?[_/]?.+\",\n",
    "    r\".+_ost[_/]?.+\",\n",
    "    r\".+_gesture[_/]?.+\", # exclusively for MONSTER HUNTER franchise\n",
    "]\n",
    "\n",
    "for pattern in filter_pattern:\n",
    "    pattern = re.compile(pattern, re.I)\n",
    "    filtered_links = list(filter(lambda x: not pattern.match(x), filtered_links))\n",
    "\n",
    "with open(\"./data/game_urls_filtered.txt\", \"w\") as f:\n",
    "    for link in filtered_links:\n",
    "        f.write(link + \"\\n\")\n",
    "        \n",
    "print(f\"Total urls: {len(links)}\")\n",
    "print(f\"Total urls (filtered): {len(filtered_links)}\")\n",
    "print(f\"Removed {len(links) - len(filtered_links)} urls\")\n"
   ]
  }
 ],
 "metadata": {
  "kernelspec": {
   "display_name": "min_ds-env",
   "language": "python",
   "name": "python3"
  },
  "language_info": {
   "codemirror_mode": {
    "name": "ipython",
    "version": 3
   },
   "file_extension": ".py",
   "mimetype": "text/x-python",
   "name": "python",
   "nbconvert_exporter": "python",
   "pygments_lexer": "ipython3",
   "version": "3.13.0"
  }
 },
 "nbformat": 4,
 "nbformat_minor": 2
}
