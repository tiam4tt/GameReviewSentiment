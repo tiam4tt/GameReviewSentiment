{
 "cells": [
  {
   "cell_type": "markdown",
   "metadata": {},
   "source": [
    "# Merging data\n",
    "\n",
    "There are 3 parts, each with 3 subparts, totaling 9 parts. To get a complete dataset, we need to merge all the parts together."
   ]
  },
  {
   "cell_type": "code",
   "execution_count": 2,
   "metadata": {},
   "outputs": [],
   "source": [
    "import pandas as pd\n",
    "import numpy as np"
   ]
  },
  {
   "cell_type": "code",
   "execution_count": 3,
   "metadata": {},
   "outputs": [
    {
     "data": {
      "text/html": [
       "<div>\n",
       "<style scoped>\n",
       "    .dataframe tbody tr th:only-of-type {\n",
       "        vertical-align: middle;\n",
       "    }\n",
       "\n",
       "    .dataframe tbody tr th {\n",
       "        vertical-align: top;\n",
       "    }\n",
       "\n",
       "    .dataframe thead th {\n",
       "        text-align: right;\n",
       "    }\n",
       "</style>\n",
       "<table border=\"1\" class=\"dataframe\">\n",
       "  <thead>\n",
       "    <tr style=\"text-align: right;\">\n",
       "      <th></th>\n",
       "      <th>Game Title</th>\n",
       "      <th>Game Genre</th>\n",
       "      <th>Pricing</th>\n",
       "      <th>Publisher</th>\n",
       "      <th>Release Date</th>\n",
       "      <th>Platform</th>\n",
       "      <th>Rating</th>\n",
       "      <th>Number of Ratings</th>\n",
       "    </tr>\n",
       "  </thead>\n",
       "  <tbody>\n",
       "    <tr>\n",
       "      <th>0</th>\n",
       "      <td>Mycelium</td>\n",
       "      <td>Adventure, Indie, RPG, Strategy</td>\n",
       "      <td>$5.99</td>\n",
       "      <td>Alex Grim</td>\n",
       "      <td>Oct 22 2024</td>\n",
       "      <td>NaN</td>\n",
       "      <td>100.0</td>\n",
       "      <td>12</td>\n",
       "    </tr>\n",
       "    <tr>\n",
       "      <th>1</th>\n",
       "      <td>Relic Keepers</td>\n",
       "      <td>Action, Adventure, Indie</td>\n",
       "      <td>$0.99</td>\n",
       "      <td>Idea Cabin</td>\n",
       "      <td>Sep 12 2017</td>\n",
       "      <td>NaN</td>\n",
       "      <td>13.0</td>\n",
       "      <td>15</td>\n",
       "    </tr>\n",
       "    <tr>\n",
       "      <th>2</th>\n",
       "      <td>OUTBRK</td>\n",
       "      <td>Action, Adventure, Simulation, Strategy, Early...</td>\n",
       "      <td>$34.99</td>\n",
       "      <td>Sublime</td>\n",
       "      <td>Jun 28 2024</td>\n",
       "      <td>NaN</td>\n",
       "      <td>78.0</td>\n",
       "      <td>1132</td>\n",
       "    </tr>\n",
       "    <tr>\n",
       "      <th>3</th>\n",
       "      <td>Whipseey and the Lost Atlas</td>\n",
       "      <td>Action, Adventure, Indie</td>\n",
       "      <td>$5.99</td>\n",
       "      <td>Daniel A. Ramirez</td>\n",
       "      <td>Aug 27 2019</td>\n",
       "      <td>NaN</td>\n",
       "      <td>62.0</td>\n",
       "      <td>24</td>\n",
       "    </tr>\n",
       "    <tr>\n",
       "      <th>4</th>\n",
       "      <td>TT Isle Of Man: Ride on the Edge 3</td>\n",
       "      <td>Racing, Simulation, Sports</td>\n",
       "      <td>$49.99</td>\n",
       "      <td>Raceward Studio</td>\n",
       "      <td>May 11 2023</td>\n",
       "      <td>NaN</td>\n",
       "      <td>75.0</td>\n",
       "      <td>308</td>\n",
       "    </tr>\n",
       "  </tbody>\n",
       "</table>\n",
       "</div>"
      ],
      "text/plain": [
       "                           Game Title  \\\n",
       "0                            Mycelium   \n",
       "1                       Relic Keepers   \n",
       "2                              OUTBRK   \n",
       "3         Whipseey and the Lost Atlas   \n",
       "4  TT Isle Of Man: Ride on the Edge 3   \n",
       "\n",
       "                                          Game Genre Pricing  \\\n",
       "0                    Adventure, Indie, RPG, Strategy   $5.99   \n",
       "1                           Action, Adventure, Indie   $0.99   \n",
       "2  Action, Adventure, Simulation, Strategy, Early...  $34.99   \n",
       "3                           Action, Adventure, Indie   $5.99   \n",
       "4                         Racing, Simulation, Sports  $49.99   \n",
       "\n",
       "           Publisher Release Date  Platform  Rating  Number of Ratings  \n",
       "0          Alex Grim  Oct 22 2024       NaN   100.0                 12  \n",
       "1         Idea Cabin  Sep 12 2017       NaN    13.0                 15  \n",
       "2            Sublime  Jun 28 2024       NaN    78.0               1132  \n",
       "3  Daniel A. Ramirez  Aug 27 2019       NaN    62.0                 24  \n",
       "4    Raceward Studio  May 11 2023       NaN    75.0                308  "
      ]
     },
     "execution_count": 3,
     "metadata": {},
     "output_type": "execute_result"
    }
   ],
   "source": [
    "raw_df = []\n",
    "for i in range(1, 4):\n",
    "    for j in range(1, 4):\n",
    "        filepath = f\"./data/outputs/part_{i}_{j}_steam_data.csv\"\n",
    "        raw_df.append(pd.read_csv(filepath))\n",
    "\n",
    "raw_df = pd.concat(raw_df)\n",
    "raw_df.to_csv(\"./data/outputs/steam_data.csv\", index=False)\n",
    "raw_df.head()"
   ]
  },
  {
   "cell_type": "markdown",
   "metadata": {},
   "source": [
    "# Understanding the data\n",
    "First we need a sense of the data's shape, structure and basic statistics."
   ]
  },
  {
   "cell_type": "code",
   "execution_count": 8,
   "metadata": {},
   "outputs": [
    {
     "name": "stdout",
     "output_type": "stream",
     "text": [
      "Data frame overview:\n",
      "<class 'pandas.core.frame.DataFrame'>\n",
      "Index: 49229 entries, 0 to 6493\n",
      "Data columns (total 8 columns):\n",
      " #   Column             Non-Null Count  Dtype  \n",
      "---  ------             --------------  -----  \n",
      " 0   Game Title         49229 non-null  object \n",
      " 1   Game Genre         49229 non-null  object \n",
      " 2   Pricing            49229 non-null  object \n",
      " 3   Publisher          49229 non-null  object \n",
      " 4   Release Date       49229 non-null  object \n",
      " 5   Platform           0 non-null      float64\n",
      " 6   Rating             49229 non-null  float64\n",
      " 7   Number of Ratings  49229 non-null  int64  \n",
      "dtypes: float64(2), int64(1), object(5)\n",
      "memory usage: 3.4+ MB\n",
      "None\n"
     ]
    }
   ],
   "source": [
    "print(\"Data frame overview:\")\n",
    "print(raw_df.info())"
   ]
  },
  {
   "cell_type": "markdown",
   "metadata": {},
   "source": [
    "# Preprocessing\n",
    "\n",
    "The steps to prepare data for merging with other datasets are:\n",
    "- Remove duplicates\n",
    "- Remove missing values\n",
    "- Convert columns' data types to their appropriate data type"
   ]
  },
  {
   "cell_type": "markdown",
   "metadata": {},
   "source": [
    "### Handle duplicates\n",
    "\n",
    "We will check for duplicates in `Game Title` column and keep the first occurrence while removing the rest."
   ]
  },
  {
   "cell_type": "code",
   "execution_count": 5,
   "metadata": {},
   "outputs": [
    {
     "name": "stdout",
     "output_type": "stream",
     "text": [
      "Before removeing duplicates:\t(58320, 8)\n",
      "After removeing duplicates:\t(49229, 8)\n"
     ]
    }
   ],
   "source": [
    "print(f\"Before removeing duplicates:\\t{raw_df.shape}\")\n",
    "raw_df.drop_duplicates(subset=[\"Game Title\"], keep=\"first\", inplace=True)\n",
    "print(f\"After removeing duplicates:\\t{raw_df.shape}\")"
   ]
  },
  {
   "cell_type": "markdown",
   "metadata": {},
   "source": [
    "### Handle missing values\n",
    "\n",
    "We check for missing values in the dataset and remove them if the missing ratio is less than predefined threshold."
   ]
  },
  {
   "cell_type": "code",
   "execution_count": 6,
   "metadata": {},
   "outputs": [
    {
     "data": {
      "text/plain": [
       "Game Title               0\n",
       "Game Genre               0\n",
       "Pricing                  0\n",
       "Publisher                0\n",
       "Release Date             0\n",
       "Platform             49229\n",
       "Rating                   0\n",
       "Number of Ratings        0\n",
       "dtype: int64"
      ]
     },
     "execution_count": 6,
     "metadata": {},
     "output_type": "execute_result"
    }
   ],
   "source": [
    "raw_df.isnull().sum()"
   ]
  },
  {
   "cell_type": "markdown",
   "metadata": {},
   "source": [
    "There are no missing values except `Plaform` columns, which was intenionally left empty since Steam does not provide information about available platform of each game. The data will later be filled when merging with other sources."
   ]
  },
  {
   "cell_type": "markdown",
   "metadata": {},
   "source": [
    "### Convert columns' data types to their appropriate data type"
   ]
  },
  {
   "cell_type": "code",
   "execution_count": null,
   "metadata": {},
   "outputs": [
    {
     "data": {
      "text/plain": [
       "Game Title            object\n",
       "Game Genre            object\n",
       "Pricing               object\n",
       "Publisher             object\n",
       "Release Date          object\n",
       "Platform             float64\n",
       "Rating               float64\n",
       "Number of Ratings      int64\n",
       "dtype: object"
      ]
     },
     "execution_count": 9,
     "metadata": {},
     "output_type": "execute_result"
    }
   ],
   "source": [
    "raw_df.dtypes"
   ]
  }
 ],
 "metadata": {
  "kernelspec": {
   "display_name": "min_ds-env",
   "language": "python",
   "name": "python3"
  },
  "language_info": {
   "codemirror_mode": {
    "name": "ipython",
    "version": 3
   },
   "file_extension": ".py",
   "mimetype": "text/x-python",
   "name": "python",
   "nbconvert_exporter": "python",
   "pygments_lexer": "ipython3",
   "version": "3.13.0"
  }
 },
 "nbformat": 4,
 "nbformat_minor": 2
}
