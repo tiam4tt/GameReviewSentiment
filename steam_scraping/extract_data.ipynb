{
 "cells": [
  {
   "cell_type": "code",
   "execution_count": null,
   "metadata": {
    "id": "vMtG4zDRRAir"
   },
   "outputs": [],
   "source": [
    "import requests\n",
    "from bs4 import BeautifulSoup as bs\n",
    "import pandas as pd\n",
    "import re"
   ]
  },
  {
   "cell_type": "markdown",
   "metadata": {
    "id": "Jx7yo7t98LzZ"
   },
   "source": [
    "> This code block below is for running in Google Colab, this will access your Goodle Drive and directly save outputs to designated location"
   ]
  },
  {
   "cell_type": "code",
   "execution_count": null,
   "metadata": {
    "colab": {
     "base_uri": "https://localhost:8080/"
    },
    "id": "z-PRryhmgtrv",
    "outputId": "19beaa00-363c-49d1-a0c6-f5a1966dd847"
   },
   "outputs": [
    {
     "name": "stdout",
     "output_type": "stream",
     "text": [
      "Mounted at /content/drive\n"
     ]
    }
   ],
   "source": [
    "from google.colab import drive\n",
    "drive.mount('/content/drive')"
   ]
  },
  {
   "cell_type": "code",
   "execution_count": null,
   "metadata": {
    "id": "vbsDhqN1cIvp"
   },
   "outputs": [],
   "source": [
    "def scrape_data(url):\n",
    "\n",
    "  data = {\"Game Title\" : [],\n",
    "          \"Game Genre\" : [],\n",
    "          \"Pricing\" : [],\n",
    "          \"Publisher\" : [],\n",
    "          \"Release Date\" : [],\n",
    "          \"Platform\" : 'n/a',\n",
    "          \"Rating\" : [],\n",
    "          \"Number of Ratings\" : []\n",
    "        }\n",
    "  try:\n",
    "    response = requests.get(url)\n",
    "  except Exception as e:\n",
    "    raise Exception(e)\n",
    "\n",
    "  soup = bs(response.text, 'html.parser')\n",
    "\n",
    "\n",
    "  # whether it's a DLC\n",
    "  isDLC = soup.find(\"div\", {\"class\" : \"game_area_bubble game_area_dlc_bubble\"})\n",
    "  if isDLC:\n",
    "    raise Exception(\"Not a game\")\n",
    "  del isDLC\n",
    "\n",
    "  # ratings\n",
    "\n",
    "  reviewSection = soup.find(\"div\", id='userReviews')\n",
    "  divs = reviewSection.find_all(\"div\", class_=\"user_reviews_summary_row\")\n",
    "\n",
    "  if len(divs) == 1:\n",
    "    target_div = divs[0]\n",
    "  else:\n",
    "    target_div = divs[1]\n",
    "\n",
    "  tooltip_text = target_div.get(\"data-tooltip-html\")\n",
    "\n",
    "  if tooltip_text == \"Need more user reviews to generate a score\" or tooltip_text == \"No user reviews\":\n",
    "    raise Exception(\"Not enough user reviews\")\n",
    "\n",
    "  digits = re.findall(r\"\\d+\", tooltip_text)\n",
    "\n",
    "  data[\"Rating\"] = float(digits[0])\n",
    "\n",
    "  data[\"Number of Ratings\"] = int(\"\".join(digits[1:]))\n",
    "\n",
    "  # price\n",
    "  # omit demo, early access, etc. by letting it throw an exception error and skip the game\n",
    "  prices = soup.find_all(\"div\", {\"class\" : \"game_area_purchase_game\"})\n",
    "  for price in prices:\n",
    "    if \"demo_above_purchase\" not in price.get(\"class\", []):\n",
    "      final_pricing = price.find(\"div\", {\"class\" : \"game_purchase_price price\"}) or price.find(\"div\", {\"class\" : \"discount_original_price\"})\n",
    "      data[\"Pricing\"] = final_pricing.text.strip()\n",
    "      break\n",
    "\n",
    "  # release date\n",
    "  data[\"Release Date\"] = soup.find(\"div\", {\"class\" : \"date\"}).text.strip().replace(',','')\n",
    "\n",
    "  # genre\n",
    "  data[\"Game Genre\"] = soup.find(\"span\", {\"data-panel\" :'{\"flow-children\":\"row\"}'}).text.strip()\n",
    "\n",
    "  # publisher\n",
    "  data[\"Publisher\"] = soup.find(\"div\", {\"id\" : \"developers_list\", \"class\" : \"summary column\"}).text.strip()\n",
    "\n",
    "  # title\n",
    "  data[\"Game Title\"] = soup.find(\"b\", string=\"Title:\").next_sibling.strip().strip()\n",
    "\n",
    "  return pd.DataFrame([data])\n"
   ]
  },
  {
   "cell_type": "code",
   "execution_count": null,
   "metadata": {
    "id": "xNPd8kj882_N"
   },
   "outputs": [],
   "source": [
    "# On the left toolbar, navigate to folder icon > drive/MyDrive/path/to/your/folder\n",
    "\n",
    "path = \"/content/drive/MyDrive/steam_scraping/data/game_urls_filtered.txt\""
   ]
  },
  {
   "cell_type": "code",
   "execution_count": null,
   "metadata": {
    "colab": {
     "base_uri": "https://localhost:8080/"
    },
    "id": "Hbg0kXY2wjDb",
    "outputId": "8235af44-1a85-4f69-9f49-2278f554fa6b"
   },
   "outputs": [
    {
     "name": "stdout",
     "output_type": "stream",
     "text": [
      "17220\n",
      "range(103322, 120542)\n",
      "range(120542, 137762)\n",
      "range(137762, 154982)\n"
     ]
    }
   ],
   "source": [
    "step = int(51661/3)\n",
    "print(step)\n",
    "for i in range(3):\n",
    "  print(f\"range({103322+(i * step)}, {103322+ ((i + 1) * step)})\")"
   ]
  },
  {
   "cell_type": "code",
   "execution_count": null,
   "metadata": {
    "colab": {
     "base_uri": "https://localhost:8080/"
    },
    "id": "cEoyeIc-ukOX",
    "outputId": "768cc242-ac34-47cd-e644-a03fd053c443"
   },
   "outputs": [
    {
     "name": "stdout",
     "output_type": "stream",
     "text": [
      "154984\n"
     ]
    }
   ],
   "source": [
    "with open(path, \"r\") as f:\n",
    "  urls = f.read().splitlines()\n",
    "\n",
    "print(len(urls))\n",
    "\n",
    "\"\"\"\n",
    "Tổng: 154984 link\n",
    "Mỗi đứa chạy: 51661 link\n",
    "\"\"\"\n",
    "range1 = range(0, 51661)\n",
    "range2 = range(51661, 103322)\n",
    "range3 = range(103322, 154984)\n",
    "\n",
    "def run(r, index, save=True):\n",
    "\n",
    "\n",
    "  datalist = []\n",
    "\n",
    "  total = r.stop - r.start\n",
    "  bar_length = 40\n",
    "\n",
    "  for i in r:\n",
    "    progress = (i - r.start + 1) / total\n",
    "    bar = \"#\" * int(progress * bar_length) + \"-\" * (bar_length - int(progress * bar_length))\n",
    "    print(f\"\\rProgress: [{bar}] {int(progress * 100)}%\", end=\"\")\n",
    "    try:\n",
    "      datalist.append(scrape_data(urls[i]))\n",
    "    except Exception as e:\n",
    "      # print(e)\n",
    "      continue\n",
    "\n",
    "  print()\n",
    "\n",
    "  dataset =  pd.concat(datalist)\n",
    "\n",
    "  if save:\n",
    "\n",
    "    path = \"/content/drive/MyDrive/steam_scraping/data/outputs/\"\n",
    "\n",
    "    filepath = path + f\"part_{index}_steam_data.csv\"\n",
    "\n",
    "    dataset.to_csv(filepath, index=False)\n",
    "\n",
    "    print(f\"data saved to {filepath}\")\n",
    "\n",
    "  print(f\"Dimension: {dataset.shape}\")\n",
    "  print(dataset.head())"
   ]
  },
  {
   "cell_type": "code",
   "execution_count": null,
   "metadata": {
    "colab": {
     "base_uri": "https://localhost:8080/"
    },
    "id": "npmZowGeD_EP",
    "outputId": "ad3fc032-cb0b-44a9-bdb3-f4a0b0d6a2e5"
   },
   "outputs": [
    {
     "name": "stdout",
     "output_type": "stream",
     "text": [
      "Progress: [########################################] 100%\n",
      "Dimension: (21, 8)\n",
      "                           Game Title  \\\n",
      "0                            Mycelium   \n",
      "0                       Relic Keepers   \n",
      "0                              OUTBRK   \n",
      "0         Whipseey and the Lost Atlas   \n",
      "0  TT Isle Of Man: Ride on the Edge 3   \n",
      "\n",
      "                                          Game Genre Pricing  \\\n",
      "0                    Adventure, Indie, RPG, Strategy   $5.99   \n",
      "0                           Action, Adventure, Indie   $0.99   \n",
      "0  Action, Adventure, Simulation, Strategy, Early...  $34.99   \n",
      "0                           Action, Adventure, Indie   $5.99   \n",
      "0                         Racing, Simulation, Sports  $49.99   \n",
      "\n",
      "           Publisher Release Date Platform  Rating  Number of Ratings  \n",
      "0          Alex Grim  Oct 22 2024      n/a   100.0                 12  \n",
      "0         Idea Cabin  Sep 12 2017      n/a    13.0                 15  \n",
      "0            Sublime  Jun 28 2024      n/a    78.0               1132  \n",
      "0  Daniel A. Ramirez  Aug 27 2019      n/a    62.0                 24  \n",
      "0    Raceward Studio  May 11 2023      n/a    75.0                308  \n"
     ]
    }
   ],
   "source": [
    "run(range(0,50), \"none\", save=False)"
   ]
  },
  {
   "cell_type": "code",
   "execution_count": null,
   "metadata": {
    "id": "iNw7GWVCS-BZ"
   },
   "outputs": [],
   "source": [
    "# run(range(0, 17220), \"1_1\")"
   ]
  },
  {
   "cell_type": "code",
   "execution_count": null,
   "metadata": {
    "colab": {
     "base_uri": "https://localhost:8080/"
    },
    "id": "CXbCPxtjDAzb",
    "outputId": "18afb269-7d5f-4e5b-d83e-a93dada0362c"
   },
   "outputs": [
    {
     "name": "stdout",
     "output_type": "stream",
     "text": [
      "Progress: [########################################] 100%\n",
      "data saved to /content/drive/MyDrive/steam_scraping/data/outputs/part_2_1_steam_data.csv\n",
      "Dimension: (6454, 8)\n",
      "              Game Title                          Game Genre       Pricing  \\\n",
      "0  Sid Meier's Starships                            Strategy        $14.99   \n",
      "0              Concealed                    Adventure, Indie        $12.99   \n",
      "0             8th Heaven     Indie, Simulation, Early Access        $14.99   \n",
      "0            cloudphobia                       Action, Indie         $5.99   \n",
      "0              Miner Lou  Free To Play, Indie, RPG, Strategy  Free To Play   \n",
      "\n",
      "               Publisher Release Date Platform  Rating  Number of Ratings  \n",
      "0          Firaxis Games  Mar 12 2015      n/a    49.0               1898  \n",
      "0           CASCHA GAMES   Nov 8 2023      n/a    78.0                 41  \n",
      "0           Cottage Club  Jul 29 2024      n/a    79.0                 44  \n",
      "0              Marsbound   Dec 7 2016      n/a    87.0                 16  \n",
      "0  Fuzzy Code Studio LLC  May 30 2019      n/a    77.0                 88  \n"
     ]
    }
   ],
   "source": [
    "run(range(51661, 68882), \"2_1\")"
   ]
  },
  {
   "cell_type": "code",
   "execution_count": null,
   "metadata": {
    "colab": {
     "base_uri": "https://localhost:8080/"
    },
    "id": "4hX92PPFDFAF",
    "outputId": "71e96e96-ffa5-4be7-c277-405f4a0b997c"
   },
   "outputs": [
    {
     "name": "stdout",
     "output_type": "stream",
     "text": [
      "Progress: [########################################] 100%\n",
      "data saved to /content/drive/MyDrive/steam_scraping/data/outputs/part_3_1_steam_data.csv\n",
      "Dimension: (6471, 8)\n",
      "                         Game Title  \\\n",
      "0                        FOOTBALLER   \n",
      "0  Dracula VS The Ninja On The Moon   \n",
      "0                           Bermuda   \n",
      "0   Hentai Day - Ringsel in Trouble   \n",
      "0                              OESE   \n",
      "\n",
      "                                          Game Genre       Pricing  \\\n",
      "0  Casual, Massively Multiplayer, RPG, Simulation...         $1.00   \n",
      "0                              Adventure, Simulation         $0.99   \n",
      "0                                   Adventure, Indie         $2.99   \n",
      "0                                      Casual, Indie         $2.99   \n",
      "0                          Casual, Indie, Simulation  Free To Play   \n",
      "\n",
      "                    Publisher Release Date Platform  Rating  Number of Ratings  \n",
      "0                       LAERT  Aug 11 2021      n/a    54.0                 11  \n",
      "0  Let's Go to the Grindhouse   Mar 8 2021      n/a    41.0                 12  \n",
      "0                 InvertMouse  Mar 17 2015      n/a    90.0                 30  \n",
      "0                NSFW18 Games  Feb 24 2021      n/a    90.0                 83  \n",
      "0       Alec Smith, Dane Winn  Jun 14 2016      n/a    83.0                 80  \n"
     ]
    }
   ],
   "source": [
    "run(range(103322, 120542), \"3_1\")"
   ]
  }
 ],
 "metadata": {
  "colab": {
   "provenance": []
  },
  "kernelspec": {
   "display_name": "min_ds-env",
   "language": "python",
   "name": "python3"
  },
  "language_info": {
   "codemirror_mode": {
    "name": "ipython",
    "version": 3
   },
   "file_extension": ".py",
   "mimetype": "text/x-python",
   "name": "python",
   "nbconvert_exporter": "python",
   "pygments_lexer": "ipython3",
   "version": "undefined.undefined.undefined"
  }
 },
 "nbformat": 4,
 "nbformat_minor": 0
}
