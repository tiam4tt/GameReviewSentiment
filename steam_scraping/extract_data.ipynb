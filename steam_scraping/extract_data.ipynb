{
 "cells": [
  {
   "cell_type": "code",
   "execution_count": null,
   "metadata": {
    "id": "vMtG4zDRRAir"
   },
   "outputs": [],
   "source": [
    "import requests\n",
    "from bs4 import BeautifulSoup as bs\n",
    "import pandas as pd"
   ]
  },
  {
   "cell_type": "code",
   "execution_count": null,
   "metadata": {
    "id": "vbsDhqN1cIvp"
   },
   "outputs": [],
   "source": [
    "def scrape_data(url):\n",
    "\n",
    "  data = {\"Game Title\" : [],\n",
    "          \"Game Genre\" : [],\n",
    "          \"Pricing\" : [],\n",
    "          \"Game Library Size\" : 'n/a',\n",
    "          \"Publisher\" : [],\n",
    "          \"Release Date\" : [],\n",
    "          \"Platform\" : 'n/a',\n",
    "          \"Rating\" : []\n",
    "}\n",
    "  try:\n",
    "    response = requests.get(url)\n",
    "  except Exception as e:\n",
    "    raise ValueError(e)\n",
    "\n",
    "  soup = bs(response.text, 'html.parser')\n",
    "\n",
    "\n",
    "  # review\n",
    "  # insufficient reviews will have 'not_enough_reviews', omit the game\n",
    "  review = soup.find(\"span\", {\"class\" : \"game_review_summary\"})\n",
    "  if \"not_enough_reviews\" in review.get(\"class\", []):\n",
    "    raise ValueError(\"Insufficient reviews\")\n",
    "  data[\"Rating\"] = review.text.strip()\n",
    "\n",
    "  # price\n",
    "  # omit demo, early access, etc. by letting it throw an exception error and skip the game\n",
    "  price = soup.find(\"div\", {\"class\" : \"game_purchase_price price\"}) or soup.find(\"div\", {\"class\" : \"discount_original_price\"})\n",
    "  data[\"Pricing\"] = price.text.strip()\n",
    "\n",
    "  # release date\n",
    "  data[\"Release Date\"] = soup.find(\"div\", {\"class\" : \"date\"}).text.strip().replace(',','')\n",
    "\n",
    "  # genre\n",
    "  data[\"Game Genre\"] = soup.find(\"span\", {\"data-panel\" :'{\"flow-children\":\"row\"}'}).text.strip()\n",
    "\n",
    "  # publisher\n",
    "  data[\"Publisher\"] = soup.find(\"div\", {\"id\" : \"developers_list\", \"class\" : \"summary column\"}).text.strip()\n",
    "\n",
    "  # title\n",
    "  data[\"Game Title\"] = soup.find(\"b\", string=\"Title:\").next_sibling.strip().strip()\n",
    "\n",
    "\n",
    "  return pd.DataFrame([data])\n"
   ]
  },
  {
   "cell_type": "code",
   "execution_count": null,
   "metadata": {
    "colab": {
     "base_uri": "https://localhost:8080/"
    },
    "id": "cEoyeIc-ukOX",
    "outputId": "72d8cc68-df82-4e09-f125-f93aac495002"
   },
   "outputs": [],
   "source": [
    "with open(\"./data/game_urls_filtered.txt\", \"r\") as f:\n",
    "  urls = f.read().splitlines()\n",
    "\n",
    "print(len(urls))\n",
    "\n",
    "\"\"\"\n",
    "Tổng: 154984 link\n",
    "Mỗi đứa chạy: 51661 link\n",
    "\"\"\"\n",
    "range1 = range(0, 51661)\n",
    "range2 = range(51662, 103322)\n",
    "range3 = range(103323, 154984)\n",
    "\n",
    "\n",
    "def run(r, index):\n",
    "\n",
    "  datalist = []\n",
    "\n",
    "  for i in r:\n",
    "    try:\n",
    "      datalist.append(scrape_data(urls[i]))\n",
    "    except Exception as e:\n",
    "      continue\n",
    "\n",
    "  dataset =  pd.concat(datalist)\n",
    "\n",
    "  print(dataset.shape)\n",
    "  dataset.head()\n",
    "\n",
    "  dataset.to_csv(f\"part_{index}_steam_data.csv\", index=False)"
   ]
  },
  {
   "cell_type": "code",
   "execution_count": null,
   "metadata": {
    "colab": {
     "base_uri": "https://localhost:8080/",
     "height": 686
    },
    "id": "iNw7GWVCS-BZ",
    "outputId": "5adf3825-6efb-4b41-eff6-87b926eb6f72"
   },
   "outputs": [],
   "source": [
    "run(range2, 2)"
   ]
  }
 ],
 "metadata": {
  "colab": {
   "provenance": []
  },
  "kernelspec": {
   "display_name": "min_ds-env",
   "language": "python",
   "name": "python3"
  },
  "language_info": {
   "codemirror_mode": {
    "name": "ipython",
    "version": 3
   },
   "file_extension": ".py",
   "mimetype": "text/x-python",
   "name": "python",
   "nbconvert_exporter": "python",
   "pygments_lexer": "ipython3",
   "version": "3.13.0"
  }
 },
 "nbformat": 4,
 "nbformat_minor": 0
}
