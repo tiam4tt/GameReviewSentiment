{
  "cells": [
    {
      "cell_type": "code",
      "execution_count": 86,
      "metadata": {
        "id": "vMtG4zDRRAir"
      },
      "outputs": [],
      "source": [
        "import requests\n",
        "from bs4 import BeautifulSoup as bs\n",
        "import pandas as pd\n",
        "import re"
      ]
    },
    {
      "cell_type": "markdown",
      "source": [
        "> This code block below is for running in Google Colab, this will access your Goodle Drive and directly save outputs to designated location"
      ],
      "metadata": {
        "id": "Jx7yo7t98LzZ"
      }
    },
    {
      "cell_type": "code",
      "execution_count": 87,
      "metadata": {
        "colab": {
          "base_uri": "https://localhost:8080/"
        },
        "id": "z-PRryhmgtrv",
        "outputId": "038f4131-1248-4784-ba0a-d709f7c3a165"
      },
      "outputs": [
        {
          "output_type": "stream",
          "name": "stdout",
          "text": [
            "Drive already mounted at /content/drive; to attempt to forcibly remount, call drive.mount(\"/content/drive\", force_remount=True).\n"
          ]
        }
      ],
      "source": [
        "from google.colab import drive\n",
        "drive.mount('/content/drive')"
      ]
    },
    {
      "cell_type": "code",
      "execution_count": 88,
      "metadata": {
        "id": "vbsDhqN1cIvp"
      },
      "outputs": [],
      "source": [
        "def scrape_data(url):\n",
        "\n",
        "  data = {\"Game Title\" : [],\n",
        "          \"Game Genre\" : [],\n",
        "          \"Pricing\" : [],\n",
        "          \"Publisher\" : [],\n",
        "          \"Release Date\" : [],\n",
        "          \"Platform\" : 'n/a',\n",
        "          \"Rating\" : [],\n",
        "          \"Number of Ratings\" : []\n",
        "        }\n",
        "  try:\n",
        "    response = requests.get(url)\n",
        "  except Exception as e:\n",
        "    raise Exception(e)\n",
        "\n",
        "  soup = bs(response.text, 'html.parser')\n",
        "\n",
        "\n",
        "  # whether it's a DLC\n",
        "  isDLC = soup.find(\"div\", {\"class\" : \"game_area_bubble game_area_dlc_bubble\"})\n",
        "  if isDLC:\n",
        "    raise Exception(\"Not a game\")\n",
        "  del isDLC\n",
        "\n",
        "  # ratings\n",
        "\n",
        "  reviewSection = soup.find(\"div\", id='userReviews')\n",
        "  divs = reviewSection.find_all(\"div\", class_=\"user_reviews_summary_row\")\n",
        "\n",
        "  if len(divs) == 1:\n",
        "    target_div = divs[0]\n",
        "  else:\n",
        "    target_div = divs[1]\n",
        "\n",
        "  tooltip_text = target_div.get(\"data-tooltip-html\")\n",
        "\n",
        "  if tooltip_text == \"Need more user reviews to generate a score\" or tooltip_text == \"No user reviews\":\n",
        "    raise Exception(\"Not enough user reviews\")\n",
        "\n",
        "  digits = re.findall(r\"\\d+\", tooltip_text)\n",
        "\n",
        "  data[\"Rating\"] = float(digits[0])\n",
        "\n",
        "  data[\"Number of Ratings\"] = int(\"\".join(digits[1:]))\n",
        "\n",
        "  # price\n",
        "  # omit demo, early access, etc. by letting it throw an exception error and skip the game\n",
        "  price = soup.find(\"div\", {\"class\" : \"game_purchase_price price\"}) or soup.find(\"div\", {\"class\" : \"discount_original_price\"})\n",
        "  data[\"Pricing\"] = price.text.strip()\n",
        "\n",
        "  # release date\n",
        "  data[\"Release Date\"] = soup.find(\"div\", {\"class\" : \"date\"}).text.strip().replace(',','')\n",
        "\n",
        "  # genre\n",
        "  data[\"Game Genre\"] = soup.find(\"span\", {\"data-panel\" :'{\"flow-children\":\"row\"}'}).text.strip()\n",
        "\n",
        "  # publisher\n",
        "  data[\"Publisher\"] = soup.find(\"div\", {\"id\" : \"developers_list\", \"class\" : \"summary column\"}).text.strip()\n",
        "\n",
        "  # title\n",
        "  data[\"Game Title\"] = soup.find(\"b\", string=\"Title:\").next_sibling.strip().strip()\n",
        "\n",
        "  return pd.DataFrame([data])\n"
      ]
    },
    {
      "cell_type": "code",
      "source": [
        "# On the left toolbar, navigate to folder icon > drive/MyDrive/path/to/your/folder\n",
        "\n",
        "path = \"/content/drive/MyDrive/steam_scraping/data/game_urls_filtered.txt\""
      ],
      "metadata": {
        "id": "xNPd8kj882_N"
      },
      "execution_count": 92,
      "outputs": []
    },
    {
      "cell_type": "code",
      "execution_count": 97,
      "metadata": {
        "colab": {
          "base_uri": "https://localhost:8080/"
        },
        "id": "cEoyeIc-ukOX",
        "outputId": "b9ec679d-4efc-4fe3-e6ea-ca5bb40a97ab"
      },
      "outputs": [
        {
          "output_type": "stream",
          "name": "stdout",
          "text": [
            "154984\n"
          ]
        }
      ],
      "source": [
        "with open(path, \"r\") as f:\n",
        "  urls = f.read().splitlines()\n",
        "\n",
        "print(len(urls))\n",
        "\n",
        "\"\"\"\n",
        "Tổng: 154984 link\n",
        "Mỗi đứa chạy: 51661 link\n",
        "\"\"\"\n",
        "range1 = range(0, 51661)\n",
        "range2 = range(51661, 103322)\n",
        "range3 = range(103322, 154984)\n",
        "\n",
        "def run(r, index):\n",
        "\n",
        "\n",
        "  datalist = []\n",
        "\n",
        "  total = r.stop - r.start\n",
        "  bar_length = 40\n",
        "\n",
        "  for i in r:\n",
        "    progress = (i - r.start + 1) / total\n",
        "    bar = \"#\" * int(progress * bar_length) + \"-\" * (bar_length - int(progress * bar_length))\n",
        "    print(f\"\\rProgress: [{bar}] {int(progress * 100)}%\", end=\"\")\n",
        "    try:\n",
        "      datalist.append(scrape_data(urls[i]))\n",
        "    except Exception as e:\n",
        "      # print(e)\n",
        "      continue\n",
        "\n",
        "  print()\n",
        "\n",
        "  dataset =  pd.concat(datalist)\n",
        "\n",
        "  path = \"/content/drive/MyDrive/steam_scraping/data/outputs/\"\n",
        "\n",
        "  filepath = path + f\"part_{index}_steam_data.csv\"\n",
        "\n",
        "  dataset.to_csv(filepath, index=False)\n",
        "\n",
        "  print(f\"data saved to {filepath}\")\n",
        "\n",
        "  print(f\"Dimension: {dataset.shape}\")\n",
        "  dataset.head()"
      ]
    },
    {
      "cell_type": "code",
      "execution_count": 98,
      "metadata": {
        "colab": {
          "base_uri": "https://localhost:8080/"
        },
        "id": "iNw7GWVCS-BZ",
        "outputId": "be068f7c-b329-436a-f8d3-017b9a27311d"
      },
      "outputs": [
        {
          "output_type": "stream",
          "name": "stdout",
          "text": [
            "Progress: [########################################] 100%\n",
            "(21, 8)\n",
            "data saved to /content/drive/MyDrive/steam_scraping/data/outputs/part_2_steam_data.csv\n"
          ]
        }
      ],
      "source": [
        "run(range(0,50), 2)\n",
        "# small range for game price testing"
      ]
    }
  ],
  "metadata": {
    "colab": {
      "provenance": []
    },
    "kernelspec": {
      "display_name": "min_ds-env",
      "language": "python",
      "name": "python3"
    },
    "language_info": {
      "codemirror_mode": {
        "name": "ipython",
        "version": 3
      },
      "file_extension": ".py",
      "mimetype": "text/x-python",
      "name": "python",
      "nbconvert_exporter": "python",
      "pygments_lexer": "ipython3",
      "version": "undefined.undefined.undefined"
    }
  },
  "nbformat": 4,
  "nbformat_minor": 0
}