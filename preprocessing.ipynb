{
 "cells": [
  {
   "cell_type": "markdown",
   "metadata": {},
   "source": [
    "<h1 style=\"text-align: center; font-weight: bold;\">Preprocessing</h1>\n",
    "\n",
    "In order to make the data suitable for the model, we need to preprocess it. In this notebook, we will preprocess the data in the following steps:\n",
    "- Merge the datasets\n",
    "- Remove duplicates\n",
    "- Handle missing values\n",
    "- Handle outliers\n",
    "- Encode categorical features"
   ]
  },
  {
   "cell_type": "code",
   "execution_count": 1,
   "metadata": {},
   "outputs": [],
   "source": [
    "import pandas as pd\n",
    "import numpy as np"
   ]
  },
  {
   "cell_type": "markdown",
   "metadata": {},
   "source": [
    "<h2 style=\"font-weight: bold;\">1. Load datasets and prepare data for merging</h2>"
   ]
  },
  {
   "cell_type": "markdown",
   "metadata": {},
   "source": [
    "### **Code Flow Explanation**\n",
    "\n",
    "1. **Loading the MetaCritic Data**\n",
    "   ```python\n",
    "   metacritic_df = pd.read_csv(\"./MetaCritic/MetaCritic.csv\")\n",
    "   print(f\"MetaCritic: {metacritic_df.shape}\")\n",
    "   print(metacritic_df.columns)\n",
    "   ```\n",
    "   - **`pd.read_csv(...)`**: Loads the MetaCritic dataset from the specified file path (`\"./MetaCritic/MetaCritic.csv\"`) into a DataFrame named `metacritic_df`.\n",
    "   - **`metacritic_df.shape`**: Returns a tuple with the number of rows and columns in the MetaCritic dataset. This is printed to show the dataset's dimensions.\n",
    "   - **`metacritic_df.columns`**: Displays the column names of the MetaCritic dataset, providing an overview of the variables it contains.\n",
    "\n",
    "2. **Loading the OpenCritic Data**\n",
    "   ```python\n",
    "   opencritic_df = pd.read_csv(\"./OpenCritic/game_data.csv\")\n",
    "   print(f\"OpenCritic: {opencritic_df.shape}\")\n",
    "   print(opencritic_df.columns)\n",
    "   ```\n",
    "   - **`pd.read_csv(...)`**: Loads the OpenCritic dataset from the specified file path (`\"./OpenCritic/game_data.csv\"`) into a DataFrame named `opencritic_df`.\n",
    "   - **`opencritic_df.shape`**: Prints the shape (rows, columns) of the OpenCritic dataset.\n",
    "   - **`opencritic_df.columns`**: Prints the names of the columns in the OpenCritic dataset.\n",
    "\n",
    "3. **Loading the Steam Data**\n",
    "   ```python\n",
    "   steam_df = pd.read_csv(\"./steam_scraping/data/outputs/steam_data.csv\")\n",
    "   print(f\"Steam: {steam_df.shape}\")\n",
    "   print(steam_df.columns)\n",
    "   ```\n",
    "   - **`pd.read_csv(...)`**: Loads the Steam dataset from the specified file path (`\"./steam_scraping/data/outputs/steam_data.csv\"`) into a DataFrame named `steam_df`.\n",
    "   - **`steam_df.shape`**: Prints the shape (rows, columns) of the Steam dataset.\n",
    "   - **`steam_df.columns`**: Prints the names of the columns in the Steam dataset.\n",
    "\n",
    "---\n",
    "\n",
    "### **Expected Output:**\n",
    "The expected output will be printed in the following format:\n",
    "\n",
    "```text\n",
    "MetaCritic: (rows, columns)\n",
    "Index(['column1', 'column2', 'column3', ...], dtype='object')\n",
    "\n",
    "OpenCritic: (rows, columns)\n",
    "Index(['column1', 'column2', 'column3', ...], dtype='object')\n",
    "\n",
    "Steam: (rows, columns)\n",
    "Index(['column1', 'column2', 'column3', ...], dtype='object')\n",
    "```\n",
    "\n",
    "Where `(rows, columns)` represents the shape of each dataset, and the column names (`'column1'`, `'column2'`, etc.) represent the names of the columns in each respective dataset."
   ]
  },
  {
   "cell_type": "code",
   "execution_count": 2,
   "metadata": {},
   "outputs": [
    {
     "name": "stdout",
     "output_type": "stream",
     "text": [
      "MetaCritic: (24258, 8)\n",
      "Index(['Game Title', 'Game Genre', 'Pricing', 'Developer', 'Release Date',\n",
      "       'Platform', 'Rating', 'Number of Ratings'],\n",
      "      dtype='object')\n",
      "OpenCritic: (7771, 9)\n",
      "Index(['Game Title', 'Game Genre', 'Pricing', 'Game Library Size', 'Publisher',\n",
      "       'Release Date', 'Platform', 'Rating', 'Number of Rating'],\n",
      "      dtype='object')\n",
      "Steam: (58320, 8)\n",
      "Index(['Game Title', 'Game Genre', 'Pricing', 'Publisher', 'Release Date',\n",
      "       'Platform', 'Rating', 'Number of Ratings'],\n",
      "      dtype='object')\n"
     ]
    }
   ],
   "source": [
    "# metacritic\n",
    "metacritic_df = pd.read_csv(\"./MetaCritic/MetaCritic.csv\")\n",
    "print(f\"MetaCritic: {metacritic_df.shape}\")\n",
    "print(metacritic_df.columns)\n",
    "\n",
    "# opencritic\n",
    "opencritic_df = pd.read_csv(\"./OpenCritic/game_data.csv\")\n",
    "print(f\"OpenCritic: {opencritic_df.shape}\")\n",
    "print(opencritic_df.columns)\n",
    "\n",
    "# steam\n",
    "steam_df = pd.read_csv(\"./steam_scraping/data/outputs/steam_data.csv\")\n",
    "print(f\"Steam: {steam_df.shape}\")\n",
    "print(steam_df.columns)"
   ]
  },
  {
   "cell_type": "markdown",
   "metadata": {},
   "source": [
    "There are a few columns in the datasets whose column names are not the same. We will rename these columns to make them consistent across the datasets. We will also remove the columns that are not useful for the model.\n",
    "\n",
    "- **OpenCritic**\n",
    "    - Has 'Number of Rating' instead of 'Number of Ratings' and 'Publisher' instead of 'Developer'.\n",
    "    - Has an additional 'Game Library Size' column which is not needed.\n",
    "\n",
    "- **Steam**\n",
    "    - Has 'Publisher' instead of 'Developer'\n",
    "\n",
    "- **MetaCritic** is fine as it is, so we will leave it there."
   ]
  },
  {
   "cell_type": "markdown",
   "metadata": {},
   "source": [
    "### **Code Flow Explanation**\n",
    "\n",
    "1. **Renaming Columns in the OpenCritic DataFrame**\n",
    "   ```python\n",
    "   opencritic_df.rename(columns={\"Number of Rating\" : \"Number of Ratings\",\n",
    "                                 \"Publisher\" : \"Developer\"}, inplace=True)\n",
    "   ```\n",
    "   - **`rename(...)`**: This operation renames the columns of `opencritic_df`:\n",
    "     - **\"Number of Rating\"** is renamed to **\"Number of Ratings\"**.\n",
    "     - **\"Publisher\"** is renamed to **\"Developer\"**.\n",
    "   - **`inplace=True`**: The changes are applied directly to the `opencritic_df` DataFrame (without needing to create a new variable).\n",
    "\n",
    "2. **Dropping the \"Game Library Size\" Column in the OpenCritic DataFrame**\n",
    "   ```python\n",
    "   opencritic_df.drop(columns=[\"Game Library Size\"], inplace=True)\n",
    "   ```\n",
    "   - **`drop(columns=[...])`**: Drops the `\"Game Library Size\"` column from the `opencritic_df` DataFrame.\n",
    "   - **`inplace=True`**: The operation is done directly on `opencritic_df`.\n",
    "\n",
    "3. **Renaming Columns in the Steam DataFrame**\n",
    "   ```python\n",
    "   steam_df.rename(columns={\"Publisher\" : \"Developer\"}, inplace=True)\n",
    "   ```\n",
    "   - **`rename(...)`**: This operation renames the `\"Publisher\"` column in `steam_df` to `\"Developer\"`.\n",
    "   - **`inplace=True`**: The changes are applied directly to `steam_df`.\n",
    "\n",
    "4. **Printing Column Names**\n",
    "   ```python\n",
    "   print(opencritic_df.columns)\n",
    "   print(steam_df.columns)\n",
    "   print(metacritic_df.columns)\n",
    "   ```\n",
    "   - **`opencritic_df.columns`**: Prints the column names of the `opencritic_df` DataFrame after the renaming and column drop.\n",
    "   - **`steam_df.columns`**: Prints the column names of the `steam_df` DataFrame after the renaming.\n",
    "   - **`metacritic_df.columns`**: Prints the column names of the `metacritic_df` DataFrame (this DataFrame hasn't been modified in this snippet, so it will remain the same).\n",
    "\n",
    "---\n",
    "\n",
    "### **Expected Output:**\n",
    "The output will display the updated column names of the three DataFrames:\n",
    "\n",
    "```text\n",
    "Index(['column1', 'column2', ..., 'Number of Ratings', 'Developer', ...], dtype='object')\n",
    "Index(['column1', 'column2', ..., 'Developer', ...], dtype='object')\n",
    "Index(['column1', 'column2', ..., 'columnN'], dtype='object')\n",
    "```\n",
    "\n",
    "- For `opencritic_df`, you’ll see that `\"Number of Rating\"` has been renamed to `\"Number of Ratings\"` and `\"Publisher\"` has been renamed to `\"Developer\"`, and `\"Game Library Size\"` will be absent.\n",
    "- For `steam_df`, `\"Publisher\"` will have been renamed to `\"Developer\"`.\n",
    "- For `metacritic_df`, no changes will have occurred, so its columns will remain the same as before."
   ]
  },
  {
   "cell_type": "code",
   "execution_count": 3,
   "metadata": {},
   "outputs": [
    {
     "name": "stdout",
     "output_type": "stream",
     "text": [
      "Index(['Game Title', 'Game Genre', 'Pricing', 'Developer', 'Release Date',\n",
      "       'Platform', 'Rating', 'Number of Ratings'],\n",
      "      dtype='object')\n",
      "Index(['Game Title', 'Game Genre', 'Pricing', 'Developer', 'Release Date',\n",
      "       'Platform', 'Rating', 'Number of Ratings'],\n",
      "      dtype='object')\n",
      "Index(['Game Title', 'Game Genre', 'Pricing', 'Developer', 'Release Date',\n",
      "       'Platform', 'Rating', 'Number of Ratings'],\n",
      "      dtype='object')\n"
     ]
    }
   ],
   "source": [
    "opencritic_df.rename(columns={\"Number of Rating\" : \"Number of Ratings\",\n",
    "                              \"Publisher\" : \"Developer\"}, inplace=True)\n",
    "opencritic_df.drop(columns=[\"Game Library Size\"], inplace=True)\n",
    "\n",
    "steam_df.rename(columns={\"Publisher\" : \"Developer\"}, inplace=True)\n",
    "\n",
    "print(opencritic_df.columns)\n",
    "print(steam_df.columns)\n",
    "print(metacritic_df.columns)"
   ]
  },
  {
   "cell_type": "markdown",
   "metadata": {},
   "source": [
    "<h3 style=\"font-weight: bold;\">Normalize <i>Ratings</i> column</h2>\n",
    "\n",
    "Since our dataset is merged from 3 different sources, the ratings scale may be different. We will normalize the ratings to a scale of 0-100."
   ]
  },
  {
   "cell_type": "markdown",
   "metadata": {},
   "source": [
    "### **Code Flow Explanation**\n",
    "\n",
    "1. **Function Definition: `getMinMaxRatings(df)`**\n",
    "   ```python\n",
    "   def getMinMaxRatings(df):\n",
    "       return df['Rating'].max(), df['Rating'].min()\n",
    "   ```\n",
    "   - **Purpose**: This function takes a DataFrame `df` as input and returns the maximum and minimum values from the `\"Rating\"` column.\n",
    "\n",
    "2. **Calculate Max and Min Ratings for Each DataFrame**\n",
    "   ```python\n",
    "   meta_max, meta_min = getMinMaxRatings(metacritic_df)\n",
    "   open_max, open_min = getMinMaxRatings(opencritic_df)\n",
    "   steam_max, steam_min = getMinMaxRatings(steam_df)\n",
    "   ```\n",
    "   - This calculates the max and min ratings for `metacritic_df`, `opencritic_df`, and `steam_df`.\n",
    "\n",
    "3. **Print the Results**\n",
    "   ```python\n",
    "   print(f\"MetaCritic: Max: {meta_max}, Min: {meta_min}\")\n",
    "   print(f\"OpenCritic: Max: {open_max}, Min: {open_min}\")\n",
    "   print(f\"Steam: Max: {steam_max}, Min: {steam_min}\")\n",
    "   ```\n",
    "   - This prints the max and min ratings for each platform: MetaCritic, OpenCritic, and Steam.\n",
    "\n",
    "---\n",
    "\n",
    "### **Expected Output**\n",
    "```text\n",
    "MetaCritic: Max: {meta_max}, Min: {meta_min}\n",
    "OpenCritic: Max: {open_max}, Min: {open_min}\n",
    "Steam: Max: {steam_max}, Min: {steam_min}\n",
    "```\n",
    "Where `{meta_max}`, `{meta_min}`, `{open_max}`, `{open_min}`, `{steam_max}`, and `{steam_min}` will be the respective values from the `\"Rating\"` column of each DataFrame."
   ]
  },
  {
   "cell_type": "code",
   "execution_count": 4,
   "metadata": {},
   "outputs": [
    {
     "name": "stdout",
     "output_type": "stream",
     "text": [
      "MetaCritic: Max: 10.0, Min: 0.2\n",
      "OpenCritic: Max: 97.0, Min: 12.0\n",
      "Steam: Max: 100.0, Min: 0.0\n"
     ]
    }
   ],
   "source": [
    "def getMinMaxRatings(df):\n",
    "    return df['Rating'].max(), df['Rating'].min()\n",
    "\n",
    "\n",
    "meta_max, meta_min = getMinMaxRatings(metacritic_df)\n",
    "open_max, open_min = getMinMaxRatings(opencritic_df)\n",
    "steam_max, steam_min = getMinMaxRatings(steam_df)\n",
    "\n",
    "print(f\"MetaCritic: Max: {meta_max}, Min: {meta_min}\")\n",
    "print(f\"OpenCritic: Max: {open_max}, Min: {open_min}\")\n",
    "print(f\"Steam: Max: {steam_max}, Min: {steam_min}\")"
   ]
  },
  {
   "cell_type": "markdown",
   "metadata": {},
   "source": [
    "As seen from the output above, **MetaCritic** have ratings in the scale of 0-10, while the other 2 are in the scale of 0-100. We will have to normalize **MetaCritic**'s ratings to 0-100."
   ]
  },
  {
   "cell_type": "markdown",
   "metadata": {},
   "source": [
    "### **Code Flow Explanation**\n",
    "\n",
    "1. **Scaling the Ratings**\n",
    "   ```python\n",
    "   metacritic_df['Rating'] = metacritic_df['Rating'] * 10\n",
    "   ```\n",
    "   - **Purpose**: This line multiplies all the ratings in the `\"Rating\"` column of the `metacritic_df` DataFrame by 10. This scales the ratings, for example, from a scale of 1-100 to a scale of 10-1000.\n",
    "\n",
    "2. **Calculate Max and Min Ratings for MetaCritic**\n",
    "   ```python\n",
    "   meta_max, meta_min = getMinMaxRatings(metacritic_df)\n",
    "   print(f\"MetaCritic: Max: {meta_max}, Min: {meta_min}\")\n",
    "   ```\n",
    "   - This calculates the max and min ratings for the updated `metacritic_df` DataFrame after scaling and prints the result.\n",
    "\n",
    "---\n",
    "\n",
    "### **Expected Output**\n",
    "```text\n",
    "MetaCritic: Max: {meta_max}, Min: {meta_min}\n",
    "```\n",
    "Where `{meta_max}` and `{meta_min}` will be the max and min values of the `\"Rating\"` column after scaling by 10."
   ]
  },
  {
   "cell_type": "code",
   "execution_count": 5,
   "metadata": {},
   "outputs": [
    {
     "name": "stdout",
     "output_type": "stream",
     "text": [
      "MetaCritic: Max: 100.0, Min: 2.0\n"
     ]
    }
   ],
   "source": [
    "metacritic_df['Rating'] = metacritic_df['Rating'] * 10\n",
    "\n",
    "meta_max, meta_min = getMinMaxRatings(metacritic_df)\n",
    "print(f\"MetaCritic: Max: {meta_max}, Min: {meta_min}\")"
   ]
  },
  {
   "cell_type": "markdown",
   "metadata": {},
   "source": [
    "We should also check for validity of data (e.g. if the ratings are within the expected range).\n",
    "\n",
    "But since we have seen the minimum and maximum values of the ratings in the previous notebook, we can skip this step."
   ]
  },
  {
   "cell_type": "markdown",
   "metadata": {},
   "source": [
    "<h2 style=\"font-weight: bold;\">2. Merging data</h2>\n",
    "\n",
    "We will merge the datasets by `Game Title` column, which is common in all datasets.\n",
    "\n",
    "According to dataset sizes, the priority order will be:\n",
    "1. Steam (58k rows)\n",
    "2. OpenCritic (24k rows)\n",
    "3. MetaCritic (7k rows)\n",
    "\n",
    "Based on the priority order, we will merge the datasets from **OpenCritic** and **MetaCritic** into **Steam**'s.\n",
    "If the values in **Steam** are missing, we will fill them with the values from **OpenCritic** and **MetaCritic**."
   ]
  },
  {
   "cell_type": "markdown",
   "metadata": {},
   "source": [
    "### **Code Flow Explanation**\n",
    "\n",
    "1. **Merging DataFrames**\n",
    "   ```python\n",
    "   merged_df = pd.merge(steam_df, metacritic_df,\n",
    "       on=\"Game Title\",\n",
    "       how=\"outer\",\n",
    "       suffixes=('_steam', '_metacritic')\n",
    "   )\n",
    "   merged_df = pd.merge(merged_df, opencritic_df,\n",
    "       on=\"Game Title\",\n",
    "       how=\"outer\",\n",
    "       suffixes=('', '_opencritic')\n",
    "   )\n",
    "   ```\n",
    "   - **Purpose**: Merges three DataFrames (`steam_df`, `metacritic_df`, `opencritic_df`) into a single `merged_df` on the `\"Game Title\"` column using an outer join. This preserves all rows from all DataFrames. The suffixes (`_steam`, `_metacritic`, `_opencritic`) differentiate the columns from each DataFrame.\n",
    "\n",
    "2. **Filling Missing Values Based on Priority**\n",
    "   ```python\n",
    "   for col in target_columns[1:]:\n",
    "       merged_df[col] = merged_df[f\"{col}_steam\"].fillna(merged_df[f\"{col}_metacritic\"], axis=0).fillna(merged_df[col], axis=0)\n",
    "   ```\n",
    "   - **Purpose**: Fills missing values in each target column. The priority is to fill missing values in the `_steam` column with values from the `_metacritic` column, and if still missing, fill with values from the opencritic column.\n",
    "\n",
    "3. **Cleaning String Columns**\n",
    "   ```python\n",
    "   string_col = ['Game Title', 'Game Genre', 'Pricing', 'Developer', 'Platform', 'Release Date']\n",
    "   for col in string_col:\n",
    "       merged_df[col] = merged_df[col].str.strip().str.strip(\"[\").str.strip(\"]\").str.strip(\"'\").str.strip(\"'\").str.replace('\\u202A', '', regex=False)\n",
    "   ```\n",
    "   - **Purpose**: Cleans string columns by removing extra spaces, square brackets, single quotes, and any unwanted characters like `\\u202A`.\n",
    "\n",
    "4. **Selecting the Final Columns**\n",
    "   ```python\n",
    "   merged_df = merged_df[target_columns]\n",
    "   ```\n",
    "   - **Purpose**: Reduces `merged_df` to only include the columns specified in `target_columns`.\n",
    "\n",
    "5. **Display Merged DataFrame**\n",
    "   ```python\n",
    "   merged_df\n",
    "   ```\n",
    "   - **Purpose**: Displays the final `merged_df` DataFrame containing the cleaned, merged data.\n",
    "\n",
    "---\n",
    "\n",
    "### **Result**\n",
    "The final `merged_df` contains combined data from the three sources, with missing values filled, cleaned string columns, and only the necessary columns selected."
   ]
  },
  {
   "cell_type": "code",
   "execution_count": 6,
   "metadata": {},
   "outputs": [
    {
     "data": {
      "text/html": [
       "<div>\n",
       "<style scoped>\n",
       "    .dataframe tbody tr th:only-of-type {\n",
       "        vertical-align: middle;\n",
       "    }\n",
       "\n",
       "    .dataframe tbody tr th {\n",
       "        vertical-align: top;\n",
       "    }\n",
       "\n",
       "    .dataframe thead th {\n",
       "        text-align: right;\n",
       "    }\n",
       "</style>\n",
       "<table border=\"1\" class=\"dataframe\">\n",
       "  <thead>\n",
       "    <tr style=\"text-align: right;\">\n",
       "      <th></th>\n",
       "      <th>Game Title</th>\n",
       "      <th>Game Genre</th>\n",
       "      <th>Pricing</th>\n",
       "      <th>Developer</th>\n",
       "      <th>Release Date</th>\n",
       "      <th>Platform</th>\n",
       "      <th>Rating</th>\n",
       "      <th>Number of Ratings</th>\n",
       "    </tr>\n",
       "  </thead>\n",
       "  <tbody>\n",
       "    <tr>\n",
       "      <th>0</th>\n",
       "      <td>! That Bastard Is Trying To Steal Our Gold !</td>\n",
       "      <td>Action, Adventure, Casual, Indie</td>\n",
       "      <td>$2.99</td>\n",
       "      <td>WTFOMGames</td>\n",
       "      <td>Mar 1 2016</td>\n",
       "      <td>NaN</td>\n",
       "      <td>56.0</td>\n",
       "      <td>66.0</td>\n",
       "    </tr>\n",
       "    <tr>\n",
       "      <th>1</th>\n",
       "      <td>! Wild Russia !</td>\n",
       "      <td>Action, Adventure, Casual</td>\n",
       "      <td>$19.99</td>\n",
       "      <td>Andreev Worlds</td>\n",
       "      <td>Apr 28 2020</td>\n",
       "      <td>NaN</td>\n",
       "      <td>61.0</td>\n",
       "      <td>60.0</td>\n",
       "    </tr>\n",
       "    <tr>\n",
       "      <th>2</th>\n",
       "      <td>!4RC4N01D!</td>\n",
       "      <td>Arcade</td>\n",
       "      <td>NaN</td>\n",
       "      <td>armogames</td>\n",
       "      <td>Jan 12, 2018</td>\n",
       "      <td>PC</td>\n",
       "      <td>40.0</td>\n",
       "      <td>4.0</td>\n",
       "    </tr>\n",
       "    <tr>\n",
       "      <th>3</th>\n",
       "      <td>!4RC4N01D! 2: Retro Edition</td>\n",
       "      <td>Arcade</td>\n",
       "      <td>NaN</td>\n",
       "      <td>armogames</td>\n",
       "      <td>Feb 6, 2018</td>\n",
       "      <td>PC</td>\n",
       "      <td>38.0</td>\n",
       "      <td>4.0</td>\n",
       "    </tr>\n",
       "    <tr>\n",
       "      <th>4</th>\n",
       "      <td>!4RC4N01D! 2: Retro Edition</td>\n",
       "      <td>Arcade</td>\n",
       "      <td>NaN</td>\n",
       "      <td>armogames</td>\n",
       "      <td>Feb 6, 2018</td>\n",
       "      <td>PC</td>\n",
       "      <td>38.0</td>\n",
       "      <td>4.0</td>\n",
       "    </tr>\n",
       "    <tr>\n",
       "      <th>...</th>\n",
       "      <td>...</td>\n",
       "      <td>...</td>\n",
       "      <td>...</td>\n",
       "      <td>...</td>\n",
       "      <td>...</td>\n",
       "      <td>...</td>\n",
       "      <td>...</td>\n",
       "      <td>...</td>\n",
       "    </tr>\n",
       "    <tr>\n",
       "      <th>79856</th>\n",
       "      <td>🔴 Circles</td>\n",
       "      <td>Casual, Indie</td>\n",
       "      <td>Free To Play</td>\n",
       "      <td>Jeroen Wimmers</td>\n",
       "      <td>Feb 17 2017</td>\n",
       "      <td>NaN</td>\n",
       "      <td>89.0</td>\n",
       "      <td>226.0</td>\n",
       "    </tr>\n",
       "    <tr>\n",
       "      <th>79857</th>\n",
       "      <td>🔴 Circles</td>\n",
       "      <td>Casual, Indie</td>\n",
       "      <td>Free To Play</td>\n",
       "      <td>Jeroen Wimmers</td>\n",
       "      <td>Feb 17 2017</td>\n",
       "      <td>NaN</td>\n",
       "      <td>89.0</td>\n",
       "      <td>226.0</td>\n",
       "    </tr>\n",
       "    <tr>\n",
       "      <th>79858</th>\n",
       "      <td>🔴 Circles</td>\n",
       "      <td>Casual, Indie</td>\n",
       "      <td>Free To Play</td>\n",
       "      <td>Jeroen Wimmers</td>\n",
       "      <td>Feb 17 2017</td>\n",
       "      <td>NaN</td>\n",
       "      <td>89.0</td>\n",
       "      <td>226.0</td>\n",
       "    </tr>\n",
       "    <tr>\n",
       "      <th>79859</th>\n",
       "      <td>🚀 Human Rocket Person</td>\n",
       "      <td>Action, Indie, Simulation</td>\n",
       "      <td>$1.99</td>\n",
       "      <td>2nd Studio</td>\n",
       "      <td>Nov 14 2018</td>\n",
       "      <td>NaN</td>\n",
       "      <td>95.0</td>\n",
       "      <td>43.0</td>\n",
       "    </tr>\n",
       "    <tr>\n",
       "      <th>79860</th>\n",
       "      <td>🧠 OUT OF THE BOX</td>\n",
       "      <td>Adventure, Casual, Indie, RPG, Simulation, Str...</td>\n",
       "      <td>$14.99</td>\n",
       "      <td>Nuclear Tales</td>\n",
       "      <td>Jul 19 2018</td>\n",
       "      <td>NaN</td>\n",
       "      <td>88.0</td>\n",
       "      <td>195.0</td>\n",
       "    </tr>\n",
       "  </tbody>\n",
       "</table>\n",
       "<p>79861 rows × 8 columns</p>\n",
       "</div>"
      ],
      "text/plain": [
       "                                         Game Title  \\\n",
       "0      ! That Bastard Is Trying To Steal Our Gold !   \n",
       "1                                   ! Wild Russia !   \n",
       "2                                        !4RC4N01D!   \n",
       "3                       !4RC4N01D! 2: Retro Edition   \n",
       "4                       !4RC4N01D! 2: Retro Edition   \n",
       "...                                             ...   \n",
       "79856                                     🔴 Circles   \n",
       "79857                                     🔴 Circles   \n",
       "79858                                     🔴 Circles   \n",
       "79859                         🚀 Human Rocket Person   \n",
       "79860                              🧠 OUT OF THE BOX   \n",
       "\n",
       "                                              Game Genre       Pricing  \\\n",
       "0                       Action, Adventure, Casual, Indie         $2.99   \n",
       "1                              Action, Adventure, Casual        $19.99   \n",
       "2                                                 Arcade           NaN   \n",
       "3                                                 Arcade           NaN   \n",
       "4                                                 Arcade           NaN   \n",
       "...                                                  ...           ...   \n",
       "79856                                      Casual, Indie  Free To Play   \n",
       "79857                                      Casual, Indie  Free To Play   \n",
       "79858                                      Casual, Indie  Free To Play   \n",
       "79859                          Action, Indie, Simulation         $1.99   \n",
       "79860  Adventure, Casual, Indie, RPG, Simulation, Str...        $14.99   \n",
       "\n",
       "            Developer  Release Date Platform  Rating  Number of Ratings  \n",
       "0          WTFOMGames    Mar 1 2016      NaN    56.0               66.0  \n",
       "1      Andreev Worlds   Apr 28 2020      NaN    61.0               60.0  \n",
       "2           armogames  Jan 12, 2018       PC    40.0                4.0  \n",
       "3           armogames   Feb 6, 2018       PC    38.0                4.0  \n",
       "4           armogames   Feb 6, 2018       PC    38.0                4.0  \n",
       "...               ...           ...      ...     ...                ...  \n",
       "79856  Jeroen Wimmers   Feb 17 2017      NaN    89.0              226.0  \n",
       "79857  Jeroen Wimmers   Feb 17 2017      NaN    89.0              226.0  \n",
       "79858  Jeroen Wimmers   Feb 17 2017      NaN    89.0              226.0  \n",
       "79859      2nd Studio   Nov 14 2018      NaN    95.0               43.0  \n",
       "79860   Nuclear Tales   Jul 19 2018      NaN    88.0              195.0  \n",
       "\n",
       "[79861 rows x 8 columns]"
      ]
     },
     "execution_count": 6,
     "metadata": {},
     "output_type": "execute_result"
    }
   ],
   "source": [
    "# Merge dataframes\n",
    "merged_df = pd.merge(steam_df, metacritic_df,\n",
    "    on=\"Game Title\",\n",
    "    how=\"outer\",\n",
    "    suffixes=('_steam', '_metacritic')\n",
    ")\n",
    "merged_df = pd.merge(merged_df,opencritic_df,\n",
    "    on=\"Game Title\",\n",
    "    how=\"outer\",\n",
    "    suffixes=('','_opencritic')\n",
    ")\n",
    "\n",
    "target_columns = ['Game Title', 'Game Genre', 'Pricing', 'Developer', 'Release Date', 'Platform', 'Rating', 'Number of Ratings']\n",
    "\n",
    "# Fill values based on priority\n",
    "for col in target_columns[1:]:\n",
    "    # strip whitespace and [, ], ' and \" from the columns as well\n",
    "    merged_df[col] = merged_df[f\"{col}_steam\"].fillna(merged_df[f\"{col}_metacritic\"], axis=0).fillna(merged_df[col], axis=0)\n",
    "    \n",
    "string_col = ['Game Title', 'Game Genre', 'Pricing', 'Developer', 'Platform', 'Release Date']\n",
    "for col in string_col:\n",
    "    merged_df[col] = merged_df[col].str.strip().str.strip(\"[\").str.strip(\"]\").str.strip(\"'\").str.strip(\"'\").str.replace('\\u202A', '', regex=False)\n",
    "\n",
    "\n",
    "\n",
    "merged_df = merged_df[target_columns]\n",
    "merged_df"
   ]
  },
  {
   "cell_type": "code",
   "execution_count": 7,
   "metadata": {},
   "outputs": [
    {
     "data": {
      "text/plain": [
       "Game Title            object\n",
       "Game Genre            object\n",
       "Pricing               object\n",
       "Developer             object\n",
       "Release Date          object\n",
       "Platform              object\n",
       "Rating               float64\n",
       "Number of Ratings    float64\n",
       "dtype: object"
      ]
     },
     "execution_count": 7,
     "metadata": {},
     "output_type": "execute_result"
    }
   ],
   "source": [
    "merged_df.dtypes"
   ]
  },
  {
   "cell_type": "markdown",
   "metadata": {},
   "source": [
    "<h2 style=\"font-weight: bold;\">3. Data Cleaning</h2>\n",
    "\n",
    "<h3 style=\"font-weight: bold;\">3.1. Remove duplicates</h2>\n",
    "\n",
    "As seen from the above preview, the total records of the dataset is **79861** entries. However, there are duplicates in the datasets. We will have to remove them."
   ]
  },
  {
   "cell_type": "markdown",
   "metadata": {},
   "source": [
    "### **Code Explanation**\n",
    "\n",
    "1. **Stripping Whitespace from the 'Game Title' Column**\n",
    "   ```python\n",
    "   merged_df['Game Title'] = merged_df['Game Title'].str.strip()\n",
    "   ```\n",
    "   - **Purpose**: This line removes any leading or trailing whitespace from the `'Game Title'` column to ensure consistency in the data.\n",
    "\n",
    "2. **Removing Duplicate 'Game Title' Entries**\n",
    "   ```python\n",
    "   merged_df = merged_df.drop_duplicates(subset=['Game Title'])\n",
    "   ```\n",
    "   - **Purpose**: This line removes any duplicate rows based on the `'Game Title'` column, keeping only the first occurrence of each unique game title.\n",
    "\n",
    "3. **Check the Shape of the DataFrame**\n",
    "   ```python\n",
    "   merged_df.shape\n",
    "   ```\n",
    "   - **Purpose**: This line returns the shape (number of rows and columns) of the `merged_df` DataFrame after the operations above.\n",
    "\n",
    "---\n",
    "\n",
    "### **Result**\n",
    "- The `merged_df` DataFrame will have:\n",
    "  - No leading or trailing spaces in the `'Game Title'` column.\n",
    "  - Only unique game titles (no duplicates).\n",
    "  - The shape of the DataFrame can be checked to see the updated number of rows and columns."
   ]
  },
  {
   "cell_type": "code",
   "execution_count": 8,
   "metadata": {},
   "outputs": [
    {
     "data": {
      "text/plain": [
       "(62373, 8)"
      ]
     },
     "execution_count": 8,
     "metadata": {},
     "output_type": "execute_result"
    }
   ],
   "source": [
    "# strip the string\n",
    "merged_df['Game Title'] = merged_df['Game Title'].str.strip()\n",
    "# remove duplicates\n",
    "merged_df = merged_df.drop_duplicates(subset=['Game Title'])\n",
    "merged_df.shape"
   ]
  },
  {
   "cell_type": "markdown",
   "metadata": {},
   "source": [
    "<h3 style=\"font-weight: bold;\">3.2. Check for invalidity</h2>\n",
    "\n",
    "Supossedly, the ratings should be within the range of 0-100. But since we have known the minimum and maximum values of the ratings do not violate this constraint in the previous section, we can skip this step.\n",
    "\n",
    "All we need is to check whether the `Number of Ratings` column is valid, i.e. it should be > 0."
   ]
  },
  {
   "cell_type": "markdown",
   "metadata": {},
   "source": [
    "### **Code Explanation**\n",
    "\n",
    "```python\n",
    "print(f\"Min Rating: {merged_df['Rating'].min()}\")\n",
    "```\n",
    "\n",
    "- **Purpose**: This line prints the minimum value in the `'Rating'` column of the `merged_df` DataFrame.\n",
    "  - The `.min()` function is used to find the smallest rating in the dataset.\n",
    "\n",
    "---\n",
    "\n",
    "### **Result**\n",
    "- The output will display the minimum rating value across all the rows in the `merged_df` DataFrame."
   ]
  },
  {
   "cell_type": "code",
   "execution_count": 9,
   "metadata": {},
   "outputs": [
    {
     "name": "stdout",
     "output_type": "stream",
     "text": [
      "Min Rating: 0.0\n"
     ]
    }
   ],
   "source": [
    "print(f\"Min Rating: {merged_df['Rating'].min()}\")"
   ]
  },
  {
   "cell_type": "markdown",
   "metadata": {},
   "source": [
    "There are indeed columns with `Number of Ratings` = 0. We will remove these rows."
   ]
  },
  {
   "cell_type": "markdown",
   "metadata": {},
   "source": [
    "### **Code Explanation**\n",
    "\n",
    "```python\n",
    "merged_df = merged_df[merged_df['Rating'] > 0]\n",
    "```\n",
    "- **Purpose**: This line filters the `merged_df` DataFrame to only include rows where the `'Rating'` value is greater than 0.\n",
    "  - The condition `merged_df['Rating'] > 0` creates a boolean mask, and only the rows that satisfy this condition are kept in the DataFrame.\n",
    "\n",
    "```python\n",
    "merged_df.shape\n",
    "```\n",
    "- **Purpose**: This line returns the shape (number of rows and columns) of the filtered `merged_df` DataFrame.\n",
    "  - After filtering, this will show how many rows remain, and how many columns are present in the DataFrame.\n",
    "\n",
    "---\n",
    "\n",
    "### **Result**\n",
    "- The output will display the new shape of the DataFrame after filtering out any rows where the `'Rating'` is 0 or less."
   ]
  },
  {
   "cell_type": "code",
   "execution_count": 10,
   "metadata": {},
   "outputs": [
    {
     "data": {
      "text/plain": [
       "(61757, 8)"
      ]
     },
     "execution_count": 10,
     "metadata": {},
     "output_type": "execute_result"
    }
   ],
   "source": [
    "merged_df = merged_df[merged_df['Rating'] > 0]\n",
    "merged_df.shape"
   ]
  },
  {
   "cell_type": "markdown",
   "metadata": {},
   "source": [
    "<h3 style=\"font-weight: bold;\">3.3. Fill or remove missing values</h2>\n",
    "\n",
    "Since we merged 3 datasets together, there will exist rows where values from all 3 datasets are missing, hence the **NaN** values. We will fill these missing rows with accordingly.\n",
    "\n",
    "First, we will check the missing values in the dataset."
   ]
  },
  {
   "cell_type": "markdown",
   "metadata": {},
   "source": [
    "### **Code Explanation**\n",
    "\n",
    "1. **Function to Get Missing Values**\n",
    "   ```python\n",
    "   def getMissingValues(df: pd.DataFrame) -> pd.Series:\n",
    "       return df.isnull().sum()\n",
    "   ```\n",
    "   - **Purpose**: Defines a function `getMissingValues` that calculates and returns the count of missing values for each column in the input DataFrame (`df`).\n",
    "     - `df.isnull()` creates a DataFrame where `True` indicates a missing value.\n",
    "     - `.sum()` counts the `True` values (missing entries) per column.\n",
    "\n",
    "2. **Getting Missing Values for `merged_df`**\n",
    "   ```python\n",
    "   missing_values = getMissingValues(merged_df)\n",
    "   ```\n",
    "   - **Purpose**: Calls the `getMissingValues` function on `merged_df` and stores the resulting count of missing values in the `missing_values` variable.\n",
    "\n",
    "3. **Output the Missing Values**\n",
    "   ```python\n",
    "   missing_values\n",
    "   ```\n",
    "   - **Purpose**: Displays the count of missing values for each column in `merged_df`.\n",
    "\n",
    "---\n",
    "\n",
    "### **Result**\n",
    "- Displays the count of missing values for each column in `merged_df`."
   ]
  },
  {
   "cell_type": "code",
   "execution_count": 11,
   "metadata": {},
   "outputs": [
    {
     "data": {
      "text/plain": [
       "Game Title               0\n",
       "Game Genre            1638\n",
       "Pricing              12545\n",
       "Developer               11\n",
       "Release Date             4\n",
       "Platform             41866\n",
       "Rating                   0\n",
       "Number of Ratings        0\n",
       "dtype: int64"
      ]
     },
     "execution_count": 11,
     "metadata": {},
     "output_type": "execute_result"
    }
   ],
   "source": [
    "def getMissingValues(df: pd.DataFrame) -> pd.Series:\n",
    "    return df.isnull().sum()\n",
    "\n",
    "missing_values = getMissingValues(merged_df)\n",
    "missing_values"
   ]
  },
  {
   "cell_type": "markdown",
   "metadata": {},
   "source": [
    "**Developer, Release Date and Number of Ratings** have very few missing values (<20), we can safely remove them from the dataset without significant impact."
   ]
  },
  {
   "cell_type": "markdown",
   "metadata": {},
   "source": [
    "### **Code Explanation**\n",
    "\n",
    "```python\n",
    "merged_df = merged_df.dropna(subset=['Developer', 'Release Date', 'Number of Ratings'])\n",
    "```\n",
    "- **Purpose**: This line removes any rows in the `merged_df` DataFrame where one or more of the specified columns (`'Developer'`, `'Release Date'`, `'Number of Ratings'`) contain missing (null) values.\n",
    "  - `.dropna(subset=[...])`: The `subset` parameter is used to specify which columns should be checked for missing values. If any of the specified columns have a missing value in a row, that row will be dropped from the DataFrame.\n",
    "  \n",
    "---\n",
    "\n",
    "### **Result**\n",
    "- After this operation, the `merged_df` DataFrame will no longer contain any rows with missing values in the `'Developer'`, `'Release Date'`, or `'Number of Ratings'` columns."
   ]
  },
  {
   "cell_type": "code",
   "execution_count": 12,
   "metadata": {},
   "outputs": [],
   "source": [
    "merged_df = merged_df.dropna(subset=['Developer', 'Release Date', 'Number of Ratings'])"
   ]
  },
  {
   "cell_type": "markdown",
   "metadata": {},
   "source": [
    "**Game Genre** has *2238* missing values. We will fill these missing values with *mode* because it is a categorical feature."
   ]
  },
  {
   "cell_type": "code",
   "execution_count": 13,
   "metadata": {},
   "outputs": [
    {
     "name": "stdout",
     "output_type": "stream",
     "text": [
      "Missing values in Game Genre replaced with mode value:  Indie\n"
     ]
    }
   ],
   "source": [
    "# get all genre values\n",
    "genres = merged_df['Game Genre'].str.split(',').explode().str.strip(\"[\").str.strip(\"'\").str.strip(\"'\").str.strip(\"]\").dropna().value_counts()\n",
    "\n",
    "mode_genre = genres.idxmax()\n",
    "merged_df.fillna({'Game Genre': mode_genre}, inplace=True)\n",
    "print(f\"Missing values in Game Genre replaced with mode value: {mode_genre}\")"
   ]
  },
  {
   "cell_type": "markdown",
   "metadata": {},
   "source": [
    "**Pricing** column is skewed, so we will fill the missing values with the *median*.\n",
    "\n",
    "But first, there are values in `Pricing` where they do not contain a numeric value (usually \"Free to Play\" for \"Free\", etc.), we will have to convert the column to a numeric type, with non-numeric (might be Free) values as 0."
   ]
  },
  {
   "cell_type": "markdown",
   "metadata": {},
   "source": [
    "### **Code Explanation**\n",
    "\n",
    "1. **Importing Regular Expression (re) Library**:\n",
    "   ```python\n",
    "   import re\n",
    "   ```\n",
    "   - **Purpose**: Imports the `re` library to use regular expressions for pattern matching in strings.\n",
    "\n",
    "2. **Check Columns in `merged_df`**:\n",
    "   ```python\n",
    "   merged_df.columns\n",
    "   ```\n",
    "   - **Purpose**: Displays the column names of `merged_df` for verification.\n",
    "\n",
    "3. **Select the `Pricing` Column**:\n",
    "   ```python\n",
    "   pricing_col = merged_df['Pricing']\n",
    "   ```\n",
    "   - **Purpose**: Selects the `Pricing` column from `merged_df` for further processing.\n",
    "\n",
    "4. **Define Regular Expression Pattern**:\n",
    "   ```python\n",
    "   numeric_pattern = re.compile(r'(?:\\d+)+')\n",
    "   ```\n",
    "   - **Purpose**: Defines a pattern to match numeric values (one or more digits).\n",
    "\n",
    "5. **Identify Non-Numeric Prices**:\n",
    "   ```python\n",
    "   non_numeric_prices = pricing_col[~pricing_col.str.contains(numeric_pattern, na=False)].unique()\n",
    "   ```\n",
    "   - **Purpose**: Filters out non-numeric values from the `Pricing` column using the defined regex pattern and retrieves the unique non-numeric prices.\n",
    "\n",
    "6. **Display Non-Numeric Prices**:\n",
    "   ```python\n",
    "   non_numeric_prices\n",
    "   ```\n",
    "   - **Purpose**: Displays the unique non-numeric pricing values found in the `Pricing` column.\n",
    "\n",
    "---\n",
    "\n",
    "### **Result**\n",
    "- The variable `non_numeric_prices` contains unique non-numeric entries in the `Pricing` column, helping identify any discrepancies."
   ]
  },
  {
   "cell_type": "code",
   "execution_count": 14,
   "metadata": {},
   "outputs": [
    {
     "data": {
      "text/plain": [
       "array([nan, 'Free', 'Free To Play', '', 'Free to Play', 'Free Demo',\n",
       "       'Free Mod', 'Play for Free!', 'Install Now', 'Play the Demo',\n",
       "       'Play WARMACHINE: Tactics Demo'], dtype=object)"
      ]
     },
     "execution_count": 14,
     "metadata": {},
     "output_type": "execute_result"
    }
   ],
   "source": [
    "import re\n",
    "\n",
    "merged_df.columns\n",
    "pricing_col = merged_df['Pricing']\n",
    "\n",
    "numeric_pattern = re.compile(r'(?:\\d+)+')\n",
    "non_numeric_prices = pricing_col[~pricing_col.str.contains(numeric_pattern, na=False)].unique()\n",
    "\n",
    "non_numeric_prices"
   ]
  },
  {
   "cell_type": "markdown",
   "metadata": {},
   "source": [
    "Now that we knew non-numeric values in the `Pricing` column are mostly *free* games, we will replace them with `0`.\n",
    "\n",
    "We also need to convert the `Pricing` column to a numeric type. Preferably `float`."
   ]
  },
  {
   "cell_type": "markdown",
   "metadata": {},
   "source": [
    "### **Code Explanation**\n",
    "\n",
    "1. **Replace Non-Numeric Prices with 0**:\n",
    "   ```python\n",
    "   merged_df['Pricing'] = merged_df['Pricing'].replace(non_numeric_prices, '0')\n",
    "   ```\n",
    "   - Replaces non-numeric prices with `'0'` to handle invalid entries.\n",
    "\n",
    "2. **Remove Dollar Signs and Convert to Numeric**:\n",
    "   ```python\n",
    "   merged_df['Pricing'] = merged_df['Pricing'].str.replace(r'\\$\\s*', '', regex=True).astype(float)\n",
    "   ```\n",
    "   - Removes dollar signs and spaces, then converts the `Pricing` column to float for numerical analysis.\n",
    "\n",
    "3. **Result**:\n",
    "   - Ensures that all values in the `Pricing` column are numeric and ready for processing."
   ]
  },
  {
   "cell_type": "code",
   "execution_count": 15,
   "metadata": {},
   "outputs": [],
   "source": [
    "# convert the non-numeric prices to 0\n",
    "merged_df['Pricing'] = merged_df['Pricing'].replace(non_numeric_prices, '0')\n",
    "\n",
    "# convert pricing to numeric\n",
    "merged_df['Pricing'] = merged_df['Pricing'].str.replace(r'\\$\\s*', '', regex=True).astype(float)"
   ]
  },
  {
   "cell_type": "markdown",
   "metadata": {},
   "source": [
    "There are still NaN values in the `Pricing` column. We will fill them with the median value since the column is skewed and does not follow a normal distribution."
   ]
  },
  {
   "cell_type": "markdown",
   "metadata": {},
   "source": [
    "### Code Explanation\n",
    "\n",
    "1. **Calculate the Median of Pricing**:\n",
    "   ```python\n",
    "   median_pricing = merged_df['Pricing'].median()\n",
    "   ```\n",
    "   - Finds the median value of the `Pricing` column.\n",
    "\n",
    "2. **Fill Missing Pricing Values with Median**:\n",
    "   ```python\n",
    "   merged_df.fillna({'Pricing' : median_pricing}, inplace=True)\n",
    "   ```\n",
    "   - Replaces `NaN` values in the `Pricing` column with the calculated median.\n",
    "\n",
    "**Result**: Missing values in the `Pricing` column are filled with the median price."
   ]
  },
  {
   "cell_type": "code",
   "execution_count": 16,
   "metadata": {},
   "outputs": [],
   "source": [
    "median_pricing = merged_df['Pricing'].median()\n",
    "merged_df.fillna({'Pricing' : median_pricing}, inplace=True)"
   ]
  },
  {
   "cell_type": "markdown",
   "metadata": {},
   "source": [
    "**Platform** column has the most missing values, *41882*. We will fill these missing values with the *mode* since the column is categorical."
   ]
  },
  {
   "cell_type": "markdown",
   "metadata": {},
   "source": [
    "### Code Explanation\n",
    "\n",
    "1. **Get Most Common Platform (Mode)**:\n",
    "   ```python\n",
    "   platforms = merged_df['Platform'].str.split(',').explode().str.strip().value_counts()\n",
    "   mode_platform = platforms.idxmax()\n",
    "   ```\n",
    "   - Splits the `Platform` column by commas, flattens the values into individual entries, removes extra spaces, and counts the occurrences of each platform.\n",
    "   - Finds the most common platform (mode) using `idxmax()`.\n",
    "\n",
    "2. **Fill Missing Platform Values with Mode**:\n",
    "   ```python\n",
    "   merged_df.fillna({'Platform': mode_platform}, inplace=True)\n",
    "   ```\n",
    "\n",
    "**Result**: Any missing values in the `Platform` column are replaced with the most frequent platform in the dataset."
   ]
  },
  {
   "cell_type": "code",
   "execution_count": 17,
   "metadata": {},
   "outputs": [
    {
     "name": "stdout",
     "output_type": "stream",
     "text": [
      "Missing values in Platform replaced with mode value: PC\n"
     ]
    }
   ],
   "source": [
    "platforms = merged_df['Platform'].str.split(',').explode().str.strip().value_counts()\n",
    "mode_platform = platforms.idxmax()\n",
    "merged_df.fillna({'Platform': mode_platform}, inplace=True)\n",
    "print(f\"Missing values in Platform replaced with mode value: {mode_platform}\")"
   ]
  },
  {
   "cell_type": "markdown",
   "metadata": {},
   "source": [
    "**Rating** column has *600* missing values. We will fill these missing values with *median* since the rating is skewed.\n",
    "\n",
    "But first, we need to convert them all into numerical datatype."
   ]
  },
  {
   "cell_type": "markdown",
   "metadata": {},
   "source": [
    "### Code Explanation\n",
    "\n",
    "1. **Convert `Rating` Column to Float**:\n",
    "   ```python\n",
    "   merged_df['Rating'] = merged_df['Rating'].astype(float)\n",
    "   ```\n",
    "   - Ensures that the `Rating` column is in a float format for numerical operations.\n",
    "\n",
    "2. **Calculate the Median Rating**:\n",
    "   ```python\n",
    "   median_rating = merged_df['Rating'].median()\n",
    "   ```\n",
    "\n",
    "3. **Fill Missing Rating Values with Median**:\n",
    "   ```python\n",
    "   merged_df.fillna({'Rating': median_rating}, inplace=True)\n",
    "   ```\n",
    "\n",
    "**Result**: Any missing values in the `Rating` column are replaced with the median rating value. The median value used is printed.\n"
   ]
  },
  {
   "cell_type": "code",
   "execution_count": 18,
   "metadata": {},
   "outputs": [
    {
     "name": "stdout",
     "output_type": "stream",
     "text": [
      "Missing values in Rating replaced with median value: 79.0\n"
     ]
    }
   ],
   "source": [
    "merged_df['Rating'] = merged_df['Rating'].astype(float)\n",
    "median_rating = merged_df['Rating'].median()\n",
    "merged_df.fillna({'Rating': median_rating}, inplace=True)\n",
    "print(f\"Missing values in Rating replaced with median value: {median_rating}\")"
   ]
  },
  {
   "cell_type": "markdown",
   "metadata": {},
   "source": [
    "Now that we have filled/removed missing values, we will check again to make sure there are no missing values left."
   ]
  },
  {
   "cell_type": "code",
   "execution_count": 19,
   "metadata": {},
   "outputs": [
    {
     "data": {
      "text/plain": [
       "Game Title           0\n",
       "Game Genre           0\n",
       "Pricing              0\n",
       "Developer            0\n",
       "Release Date         0\n",
       "Platform             0\n",
       "Rating               0\n",
       "Number of Ratings    0\n",
       "dtype: int64"
      ]
     },
     "execution_count": 19,
     "metadata": {},
     "output_type": "execute_result"
    }
   ],
   "source": [
    "missing_values = getMissingValues(merged_df)\n",
    "missing_values"
   ]
  },
  {
   "cell_type": "markdown",
   "metadata": {},
   "source": [
    "We will also check for the appropriate datatypes for each column."
   ]
  },
  {
   "cell_type": "code",
   "execution_count": 20,
   "metadata": {},
   "outputs": [
    {
     "data": {
      "text/plain": [
       "Game Title            object\n",
       "Game Genre            object\n",
       "Pricing              float64\n",
       "Developer             object\n",
       "Release Date          object\n",
       "Platform              object\n",
       "Rating               float64\n",
       "Number of Ratings    float64\n",
       "dtype: object"
      ]
     },
     "execution_count": 20,
     "metadata": {},
     "output_type": "execute_result"
    }
   ],
   "source": [
    "merged_df.dtypes"
   ]
  },
  {
   "cell_type": "markdown",
   "metadata": {},
   "source": [
    "**Number of Ratings** should be `uint64` instead of `float`."
   ]
  },
  {
   "cell_type": "markdown",
   "metadata": {},
   "source": [
    "### Code Explanation\n",
    "\n",
    "1. **Convert `Number of Ratings` Column to Unsigned Integer**:\n",
    "   ```python\n",
    "   merged_df['Number of Ratings'] = merged_df['Number of Ratings'].astype(np.uint64)\n",
    "   ```\n",
    "   - This ensures the `Number of Ratings` column is in an unsigned 64-bit integer format (`np.uint64`), which is suitable for large numerical values and prevents negative numbers."
   ]
  },
  {
   "cell_type": "code",
   "execution_count": 21,
   "metadata": {},
   "outputs": [],
   "source": [
    "merged_df['Number of Ratings'] = merged_df['Number of Ratings'].astype(np.uint64)"
   ]
  },
  {
   "cell_type": "code",
   "execution_count": 22,
   "metadata": {},
   "outputs": [
    {
     "data": {
      "text/plain": [
       "Game Title            object\n",
       "Game Genre            object\n",
       "Pricing              float64\n",
       "Developer             object\n",
       "Release Date          object\n",
       "Platform              object\n",
       "Rating               float64\n",
       "Number of Ratings     uint64\n",
       "dtype: object"
      ]
     },
     "execution_count": 22,
     "metadata": {},
     "output_type": "execute_result"
    }
   ],
   "source": [
    "merged_df.dtypes"
   ]
  },
  {
   "cell_type": "markdown",
   "metadata": {},
   "source": [
    "<h3 style=\"font-weight: bold;\">3.4. Handle outliers</h2>\n",
    "\n",
    "`Number of Ratings` column is suspected to be highly skewed because there are some game titles with very few ratings while some received a lot of ratings. We will remove the outliers in this column.\n",
    "\n",
    "Since we want to mitigate the effect of outliers, while retaining data, we will have to **winsorize (cap)** the data. The chosen approach is using Percentile method and capp the data at 99th percentile."
   ]
  },
  {
   "cell_type": "code",
   "execution_count": 23,
   "metadata": {},
   "outputs": [
    {
     "data": {
      "text/plain": [
       "count      61742.0\n",
       "mean        1782.0\n",
       "std        40793.0\n",
       "min            3.0\n",
       "25%           17.0\n",
       "50%           43.0\n",
       "75%          186.0\n",
       "max      8389102.0\n",
       "Name: Number of Ratings, dtype: float64"
      ]
     },
     "execution_count": 23,
     "metadata": {},
     "output_type": "execute_result"
    }
   ],
   "source": [
    "merged_df['Number of Ratings'].describe().round()"
   ]
  },
  {
   "cell_type": "markdown",
   "metadata": {},
   "source": [
    "### Code Explanation\n",
    "\n",
    "1. **Determine Lower and Upper Bounds**:\n",
    "   ```python\n",
    "   lower_bound = merged_df['Number of Ratings'].quantile(0.05)\n",
    "   upper_bound = merged_df['Number of Ratings'].quantile(0.99)\n",
    "   ```\n",
    "   - The `quantile()` function is used to compute the 5th percentile (`lower_bound`) and the 99th percentile (`upper_bound`) of the `Number of Ratings` column. This helps define the acceptable range for the data, effectively identifying extreme values.\n",
    "\n",
    "2. **Clip Outliers**:\n",
    "   ```python\n",
    "   merged_df['Number of Ratings'] = merged_df['Number of Ratings'].clip(lower=lower_bound, upper=upper_bound).astype(np.uint64)\n",
    "   ```\n",
    "   - The `clip()` function is used to limit the values of `Number of Ratings` to be within the `lower_bound` and `upper_bound`. Any values below the 5th percentile are set to the `lower_bound`, and values above the 99th percentile are set to the `upper_bound`. After clipping, the values are converted to `np.uint64` for consistency.\n",
    "\n",
    "3. **Describe the `Number of Ratings` Column**:\n",
    "   ```python\n",
    "   merged_df['Number of Ratings'].describe().round()\n",
    "   ```\n",
    "   - The `describe()` function provides summary statistics for the `Number of Ratings` column. The `.round()` method rounds the results for readability."
   ]
  },
  {
   "cell_type": "code",
   "execution_count": 24,
   "metadata": {},
   "outputs": [
    {
     "data": {
      "text/plain": [
       "count    61742.0\n",
       "mean       769.0\n",
       "std       3100.0\n",
       "min          7.0\n",
       "25%         17.0\n",
       "50%         43.0\n",
       "75%        186.0\n",
       "max      24635.0\n",
       "Name: Number of Ratings, dtype: float64"
      ]
     },
     "execution_count": 24,
     "metadata": {},
     "output_type": "execute_result"
    }
   ],
   "source": [
    "lower_bound = merged_df['Number of Ratings'].quantile(0.05)\n",
    "upper_bound = merged_df['Number of Ratings'].quantile(0.99)\n",
    "\n",
    "merged_df['Number of Ratings'] = merged_df['Number of Ratings'].clip(lower=lower_bound, upper=upper_bound).astype(np.uint64)\n",
    "\n",
    "merged_df['Number of Ratings'].describe().round()"
   ]
  },
  {
   "cell_type": "markdown",
   "metadata": {},
   "source": [
    "<h2 style=\"font-weight: bold;\">4. Save cleaned data</h2>\n",
    "\n",
    "Sort the data alphabetically by `Game Title` and save it as a CSV file."
   ]
  },
  {
   "cell_type": "markdown",
   "metadata": {},
   "source": [
    "### Code Explanation\n",
    "\n",
    "1. **Sort the DataFrame**:\n",
    "   ```python\n",
    "   merged_df = merged_df.sort_values(by=\"Game Title\")\n",
    "   ```\n",
    "   - The `sort_values()` function is used to sort the `merged_df` DataFrame by the `\"Game Title\"` column in ascending order.\n",
    "\n",
    "2. **Save the Cleaned Data**:\n",
    "   ```python\n",
    "   merged_df.to_csv(\"cleaned_data.csv\", index=False, encoding='utf-8')\n",
    "   ```\n",
    "   - The `to_csv()` function saves the cleaned DataFrame to a CSV file named `cleaned_data.csv`. The `index=False` parameter ensures that the index is not included in the saved file, and `encoding='utf-8'` specifies the encoding for the file.\n",
    "\n",
    "3. **Display the First Few Rows**:\n",
    "   ```python\n",
    "   merged_df.head()\n",
    "   ```\n",
    "   - The `head()` function displays the first 5 rows of the DataFrame to verify the final cleaned data."
   ]
  },
  {
   "cell_type": "code",
   "execution_count": 25,
   "metadata": {},
   "outputs": [
    {
     "data": {
      "text/html": [
       "<div>\n",
       "<style scoped>\n",
       "    .dataframe tbody tr th:only-of-type {\n",
       "        vertical-align: middle;\n",
       "    }\n",
       "\n",
       "    .dataframe tbody tr th {\n",
       "        vertical-align: top;\n",
       "    }\n",
       "\n",
       "    .dataframe thead th {\n",
       "        text-align: right;\n",
       "    }\n",
       "</style>\n",
       "<table border=\"1\" class=\"dataframe\">\n",
       "  <thead>\n",
       "    <tr style=\"text-align: right;\">\n",
       "      <th></th>\n",
       "      <th>Game Title</th>\n",
       "      <th>Game Genre</th>\n",
       "      <th>Pricing</th>\n",
       "      <th>Developer</th>\n",
       "      <th>Release Date</th>\n",
       "      <th>Platform</th>\n",
       "      <th>Rating</th>\n",
       "      <th>Number of Ratings</th>\n",
       "    </tr>\n",
       "  </thead>\n",
       "  <tbody>\n",
       "    <tr>\n",
       "      <th>0</th>\n",
       "      <td>! That Bastard Is Trying To Steal Our Gold !</td>\n",
       "      <td>Action, Adventure, Casual, Indie</td>\n",
       "      <td>2.99</td>\n",
       "      <td>WTFOMGames</td>\n",
       "      <td>Mar 1 2016</td>\n",
       "      <td>PC</td>\n",
       "      <td>56.0</td>\n",
       "      <td>66</td>\n",
       "    </tr>\n",
       "    <tr>\n",
       "      <th>1</th>\n",
       "      <td>! Wild Russia !</td>\n",
       "      <td>Action, Adventure, Casual</td>\n",
       "      <td>19.99</td>\n",
       "      <td>Andreev Worlds</td>\n",
       "      <td>Apr 28 2020</td>\n",
       "      <td>PC</td>\n",
       "      <td>61.0</td>\n",
       "      <td>60</td>\n",
       "    </tr>\n",
       "    <tr>\n",
       "      <th>2</th>\n",
       "      <td>!4RC4N01D!</td>\n",
       "      <td>Arcade</td>\n",
       "      <td>0.00</td>\n",
       "      <td>armogames</td>\n",
       "      <td>Jan 12, 2018</td>\n",
       "      <td>PC</td>\n",
       "      <td>40.0</td>\n",
       "      <td>7</td>\n",
       "    </tr>\n",
       "    <tr>\n",
       "      <th>3</th>\n",
       "      <td>!4RC4N01D! 2: Retro Edition</td>\n",
       "      <td>Arcade</td>\n",
       "      <td>0.00</td>\n",
       "      <td>armogames</td>\n",
       "      <td>Feb 6, 2018</td>\n",
       "      <td>PC</td>\n",
       "      <td>38.0</td>\n",
       "      <td>7</td>\n",
       "    </tr>\n",
       "    <tr>\n",
       "      <th>5</th>\n",
       "      <td>!4RC4N01D! 3: Cold Space</td>\n",
       "      <td>Arcade</td>\n",
       "      <td>0.00</td>\n",
       "      <td>armogames</td>\n",
       "      <td>Mar 8, 2018</td>\n",
       "      <td>PC</td>\n",
       "      <td>30.0</td>\n",
       "      <td>7</td>\n",
       "    </tr>\n",
       "  </tbody>\n",
       "</table>\n",
       "</div>"
      ],
      "text/plain": [
       "                                     Game Title  \\\n",
       "0  ! That Bastard Is Trying To Steal Our Gold !   \n",
       "1                               ! Wild Russia !   \n",
       "2                                    !4RC4N01D!   \n",
       "3                   !4RC4N01D! 2: Retro Edition   \n",
       "5                      !4RC4N01D! 3: Cold Space   \n",
       "\n",
       "                         Game Genre  Pricing       Developer  Release Date  \\\n",
       "0  Action, Adventure, Casual, Indie     2.99      WTFOMGames    Mar 1 2016   \n",
       "1         Action, Adventure, Casual    19.99  Andreev Worlds   Apr 28 2020   \n",
       "2                            Arcade     0.00       armogames  Jan 12, 2018   \n",
       "3                            Arcade     0.00       armogames   Feb 6, 2018   \n",
       "5                            Arcade     0.00       armogames   Mar 8, 2018   \n",
       "\n",
       "  Platform  Rating  Number of Ratings  \n",
       "0       PC    56.0                 66  \n",
       "1       PC    61.0                 60  \n",
       "2       PC    40.0                  7  \n",
       "3       PC    38.0                  7  \n",
       "5       PC    30.0                  7  "
      ]
     },
     "execution_count": 25,
     "metadata": {},
     "output_type": "execute_result"
    }
   ],
   "source": [
    "merged_df = merged_df.sort_values(by=\"Game Title\")\n",
    "merged_df.to_csv(\"cleaned_data.csv\", index=False, encoding='utf-8')\n",
    "merged_df.head()"
   ]
  }
 ],
 "metadata": {
  "kernelspec": {
   "display_name": "min_ds-env",
   "language": "python",
   "name": "python3"
  },
  "language_info": {
   "codemirror_mode": {
    "name": "ipython",
    "version": 3
   },
   "file_extension": ".py",
   "mimetype": "text/x-python",
   "name": "python",
   "nbconvert_exporter": "python",
   "pygments_lexer": "ipython3",
   "version": "3.13.0"
  }
 },
 "nbformat": 4,
 "nbformat_minor": 2
}
