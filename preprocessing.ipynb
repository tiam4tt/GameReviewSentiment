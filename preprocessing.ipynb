{
 "cells": [
  {
   "cell_type": "markdown",
   "metadata": {},
   "source": [
    "<h1 style=\"text-align: center; font-weight: bold;\">Preprocessing</h1>\n",
    "\n",
    "In order to make the data suitable for the model, we need to preprocess it. In this notebook, we will preprocess the data in the following steps:\n",
    "- Merge the datasets\n",
    "- Remove duplicates\n",
    "- Handle missing values\n",
    "- Handle outliers\n",
    "- Encode categorical features"
   ]
  },
  {
   "cell_type": "code",
   "execution_count": 39,
   "metadata": {},
   "outputs": [],
   "source": [
    "import pandas as pd\n",
    "import numpy as np"
   ]
  },
  {
   "cell_type": "markdown",
   "metadata": {},
   "source": [
    "<h2 style=\"font-weight: bold;\">1. Load datasets and prepare data for merging</h2>"
   ]
  },
  {
   "cell_type": "code",
   "execution_count": 40,
   "metadata": {},
   "outputs": [
    {
     "name": "stdout",
     "output_type": "stream",
     "text": [
      "MetaCritic: (24258, 8)\n",
      "Index(['Game Title', 'Game Genre', 'Pricing', 'Developer', 'Release Date',\n",
      "       'Platform', 'Rating', 'Number of Ratings'],\n",
      "      dtype='object')\n",
      "OpenCritic: (7771, 9)\n",
      "Index(['Game Title', 'Game Genre', 'Pricing', 'Game Library Size', 'Publisher',\n",
      "       'Release Date', 'Platform', 'Rating', 'Number of Rating'],\n",
      "      dtype='object')\n",
      "Steam: (58320, 8)\n",
      "Index(['Game Title', 'Game Genre', 'Pricing', 'Publisher', 'Release Date',\n",
      "       'Platform', 'Rating', 'Number of Ratings'],\n",
      "      dtype='object')\n"
     ]
    }
   ],
   "source": [
    "# metacritic\n",
    "metacritic_df = pd.read_csv(\"./MetaCritic/MetaCritic.csv\")\n",
    "print(f\"MetaCritic: {metacritic_df.shape}\")\n",
    "print(metacritic_df.columns)\n",
    "\n",
    "# opencritic\n",
    "opencritic_df = pd.read_csv(\"./OpenCritic/game_data.csv\")\n",
    "print(f\"OpenCritic: {opencritic_df.shape}\")\n",
    "print(opencritic_df.columns)\n",
    "\n",
    "# steam\n",
    "steam_df = pd.read_csv(\"./steam_scraping/data/outputs/steam_data.csv\")\n",
    "print(f\"Steam: {steam_df.shape}\")\n",
    "print(steam_df.columns)"
   ]
  },
  {
   "cell_type": "markdown",
   "metadata": {},
   "source": [
    "There are a few columns in the datasets whose column names are not the same. We will rename these columns to make them consistent across the datasets. We will also remove the columns that are not useful for the model.\n",
    "\n",
    "- **OpenCritic**\n",
    "    - Has 'Number of Rating' instead of 'Number of Ratings' and 'Publisher' instead of 'Developer'.\n",
    "    - Has an additional 'Game Library Size' column which is not needed.\n",
    "\n",
    "- **Steam**\n",
    "    - Has 'Publisher' instead of 'Developer'\n",
    "\n",
    "- **MetaCritic** is fine as it is, so we will leave it there."
   ]
  },
  {
   "cell_type": "code",
   "execution_count": 41,
   "metadata": {},
   "outputs": [
    {
     "name": "stdout",
     "output_type": "stream",
     "text": [
      "Index(['Game Title', 'Game Genre', 'Pricing', 'Developer', 'Release Date',\n",
      "       'Platform', 'Rating', 'Number of Ratings'],\n",
      "      dtype='object')\n",
      "Index(['Game Title', 'Game Genre', 'Pricing', 'Developer', 'Release Date',\n",
      "       'Platform', 'Rating', 'Number of Ratings'],\n",
      "      dtype='object')\n",
      "Index(['Game Title', 'Game Genre', 'Pricing', 'Developer', 'Release Date',\n",
      "       'Platform', 'Rating', 'Number of Ratings'],\n",
      "      dtype='object')\n"
     ]
    }
   ],
   "source": [
    "opencritic_df.rename(columns={\"Number of Rating\" : \"Number of Ratings\",\n",
    "                              \"Publisher\" : \"Developer\"}, inplace=True)\n",
    "opencritic_df.drop(columns=[\"Game Library Size\"], inplace=True)\n",
    "\n",
    "steam_df.rename(columns={\"Publisher\" : \"Developer\"}, inplace=True)\n",
    "\n",
    "print(opencritic_df.columns)\n",
    "print(steam_df.columns)\n",
    "print(metacritic_df.columns)"
   ]
  },
  {
   "cell_type": "markdown",
   "metadata": {},
   "source": [
    "<h2 style=\"font-weight: bold;\">2. Merging data</h2>\n",
    "\n",
    "We will merge the datasets by `Game Title` column, which is common in all datasets.\n",
    "\n",
    "According to dataset sizes, the priority order will be:\n",
    "1. Steam (58k rows)\n",
    "2. OpenCritic (24k rows)\n",
    "3. MetaCritic (7k rows)\n",
    "\n",
    "Based on the priority order, we will merge the datasets from **OpenCritic** and **MetaCritic** into **Steam**'s.\n",
    "If the values in **Steam** are missing, we will fill them with the values from **OpenCritic** and **MetaCritic**."
   ]
  },
  {
   "cell_type": "code",
   "execution_count": 42,
   "metadata": {},
   "outputs": [
    {
     "data": {
      "text/html": [
       "<div>\n",
       "<style scoped>\n",
       "    .dataframe tbody tr th:only-of-type {\n",
       "        vertical-align: middle;\n",
       "    }\n",
       "\n",
       "    .dataframe tbody tr th {\n",
       "        vertical-align: top;\n",
       "    }\n",
       "\n",
       "    .dataframe thead th {\n",
       "        text-align: right;\n",
       "    }\n",
       "</style>\n",
       "<table border=\"1\" class=\"dataframe\">\n",
       "  <thead>\n",
       "    <tr style=\"text-align: right;\">\n",
       "      <th></th>\n",
       "      <th>Game Title</th>\n",
       "      <th>Game Genre</th>\n",
       "      <th>Pricing</th>\n",
       "      <th>Developer</th>\n",
       "      <th>Release Date</th>\n",
       "      <th>Platform</th>\n",
       "      <th>Rating</th>\n",
       "      <th>Number of Ratings</th>\n",
       "    </tr>\n",
       "  </thead>\n",
       "  <tbody>\n",
       "    <tr>\n",
       "      <th>0</th>\n",
       "      <td>! That Bastard Is Trying To Steal Our Gold !</td>\n",
       "      <td>Action, Adventure, Casual, Indie</td>\n",
       "      <td>$2.99</td>\n",
       "      <td>WTFOMGames</td>\n",
       "      <td>Mar 1 2016</td>\n",
       "      <td>NaN</td>\n",
       "      <td>56.0</td>\n",
       "      <td>66.0</td>\n",
       "    </tr>\n",
       "    <tr>\n",
       "      <th>1</th>\n",
       "      <td>! Wild Russia !</td>\n",
       "      <td>Action, Adventure, Casual</td>\n",
       "      <td>$19.99</td>\n",
       "      <td>Andreev Worlds</td>\n",
       "      <td>Apr 28 2020</td>\n",
       "      <td>NaN</td>\n",
       "      <td>61.0</td>\n",
       "      <td>60.0</td>\n",
       "    </tr>\n",
       "    <tr>\n",
       "      <th>2</th>\n",
       "      <td>!4RC4N01D!</td>\n",
       "      <td>Arcade</td>\n",
       "      <td>NaN</td>\n",
       "      <td>armogames</td>\n",
       "      <td>Jan 12, 2018</td>\n",
       "      <td>PC</td>\n",
       "      <td>4.0</td>\n",
       "      <td>4.0</td>\n",
       "    </tr>\n",
       "    <tr>\n",
       "      <th>3</th>\n",
       "      <td>!4RC4N01D! 2: Retro Edition</td>\n",
       "      <td>Arcade</td>\n",
       "      <td>NaN</td>\n",
       "      <td>armogames</td>\n",
       "      <td>Feb 6, 2018</td>\n",
       "      <td>PC</td>\n",
       "      <td>3.8</td>\n",
       "      <td>4.0</td>\n",
       "    </tr>\n",
       "    <tr>\n",
       "      <th>4</th>\n",
       "      <td>!4RC4N01D! 2: Retro Edition</td>\n",
       "      <td>Arcade</td>\n",
       "      <td>NaN</td>\n",
       "      <td>armogames</td>\n",
       "      <td>Feb 6, 2018</td>\n",
       "      <td>PC</td>\n",
       "      <td>3.8</td>\n",
       "      <td>4.0</td>\n",
       "    </tr>\n",
       "    <tr>\n",
       "      <th>...</th>\n",
       "      <td>...</td>\n",
       "      <td>...</td>\n",
       "      <td>...</td>\n",
       "      <td>...</td>\n",
       "      <td>...</td>\n",
       "      <td>...</td>\n",
       "      <td>...</td>\n",
       "      <td>...</td>\n",
       "    </tr>\n",
       "    <tr>\n",
       "      <th>79856</th>\n",
       "      <td>🔴 Circles</td>\n",
       "      <td>Casual, Indie</td>\n",
       "      <td>Free To Play</td>\n",
       "      <td>Jeroen Wimmers</td>\n",
       "      <td>Feb 17 2017</td>\n",
       "      <td>NaN</td>\n",
       "      <td>89.0</td>\n",
       "      <td>226.0</td>\n",
       "    </tr>\n",
       "    <tr>\n",
       "      <th>79857</th>\n",
       "      <td>🔴 Circles</td>\n",
       "      <td>Casual, Indie</td>\n",
       "      <td>Free To Play</td>\n",
       "      <td>Jeroen Wimmers</td>\n",
       "      <td>Feb 17 2017</td>\n",
       "      <td>NaN</td>\n",
       "      <td>89.0</td>\n",
       "      <td>226.0</td>\n",
       "    </tr>\n",
       "    <tr>\n",
       "      <th>79858</th>\n",
       "      <td>🔴 Circles</td>\n",
       "      <td>Casual, Indie</td>\n",
       "      <td>Free To Play</td>\n",
       "      <td>Jeroen Wimmers</td>\n",
       "      <td>Feb 17 2017</td>\n",
       "      <td>NaN</td>\n",
       "      <td>89.0</td>\n",
       "      <td>226.0</td>\n",
       "    </tr>\n",
       "    <tr>\n",
       "      <th>79859</th>\n",
       "      <td>🚀 Human Rocket Person</td>\n",
       "      <td>Action, Indie, Simulation</td>\n",
       "      <td>$1.99</td>\n",
       "      <td>2nd Studio</td>\n",
       "      <td>Nov 14 2018</td>\n",
       "      <td>NaN</td>\n",
       "      <td>95.0</td>\n",
       "      <td>43.0</td>\n",
       "    </tr>\n",
       "    <tr>\n",
       "      <th>79860</th>\n",
       "      <td>🧠 OUT OF THE BOX</td>\n",
       "      <td>Adventure, Casual, Indie, RPG, Simulation, Str...</td>\n",
       "      <td>$14.99</td>\n",
       "      <td>Nuclear Tales</td>\n",
       "      <td>Jul 19 2018</td>\n",
       "      <td>NaN</td>\n",
       "      <td>88.0</td>\n",
       "      <td>195.0</td>\n",
       "    </tr>\n",
       "  </tbody>\n",
       "</table>\n",
       "<p>79861 rows × 8 columns</p>\n",
       "</div>"
      ],
      "text/plain": [
       "                                         Game Title  \\\n",
       "0      ! That Bastard Is Trying To Steal Our Gold !   \n",
       "1                                   ! Wild Russia !   \n",
       "2                                        !4RC4N01D!   \n",
       "3                       !4RC4N01D! 2: Retro Edition   \n",
       "4                       !4RC4N01D! 2: Retro Edition   \n",
       "...                                             ...   \n",
       "79856                                     🔴 Circles   \n",
       "79857                                     🔴 Circles   \n",
       "79858                                     🔴 Circles   \n",
       "79859                         🚀 Human Rocket Person   \n",
       "79860                              🧠 OUT OF THE BOX   \n",
       "\n",
       "                                              Game Genre       Pricing  \\\n",
       "0                       Action, Adventure, Casual, Indie         $2.99   \n",
       "1                              Action, Adventure, Casual        $19.99   \n",
       "2                                                 Arcade           NaN   \n",
       "3                                                 Arcade           NaN   \n",
       "4                                                 Arcade           NaN   \n",
       "...                                                  ...           ...   \n",
       "79856                                      Casual, Indie  Free To Play   \n",
       "79857                                      Casual, Indie  Free To Play   \n",
       "79858                                      Casual, Indie  Free To Play   \n",
       "79859                          Action, Indie, Simulation         $1.99   \n",
       "79860  Adventure, Casual, Indie, RPG, Simulation, Str...        $14.99   \n",
       "\n",
       "            Developer  Release Date Platform  Rating  Number of Ratings  \n",
       "0          WTFOMGames    Mar 1 2016      NaN    56.0               66.0  \n",
       "1      Andreev Worlds   Apr 28 2020      NaN    61.0               60.0  \n",
       "2           armogames  Jan 12, 2018       PC     4.0                4.0  \n",
       "3           armogames   Feb 6, 2018       PC     3.8                4.0  \n",
       "4           armogames   Feb 6, 2018       PC     3.8                4.0  \n",
       "...               ...           ...      ...     ...                ...  \n",
       "79856  Jeroen Wimmers   Feb 17 2017      NaN    89.0              226.0  \n",
       "79857  Jeroen Wimmers   Feb 17 2017      NaN    89.0              226.0  \n",
       "79858  Jeroen Wimmers   Feb 17 2017      NaN    89.0              226.0  \n",
       "79859      2nd Studio   Nov 14 2018      NaN    95.0               43.0  \n",
       "79860   Nuclear Tales   Jul 19 2018      NaN    88.0              195.0  \n",
       "\n",
       "[79861 rows x 8 columns]"
      ]
     },
     "execution_count": 42,
     "metadata": {},
     "output_type": "execute_result"
    }
   ],
   "source": [
    "# Merge dataframes\n",
    "merged_df = pd.merge(steam_df, metacritic_df,\n",
    "    on=\"Game Title\",\n",
    "    how=\"outer\",\n",
    "    suffixes=('_steam', '_metacritic')\n",
    ")\n",
    "merged_df = pd.merge(merged_df,opencritic_df,\n",
    "    on=\"Game Title\",\n",
    "    how=\"outer\",\n",
    "    suffixes=('','_opencritic')\n",
    ")\n",
    "\n",
    "target_columns = ['Game Title', 'Game Genre', 'Pricing', 'Developer', 'Release Date', 'Platform', 'Rating', 'Number of Ratings']\n",
    "\n",
    "# Fill values based on priority\n",
    "for col in target_columns[1:]:\n",
    "    # strip whitespace and [, ], ' and \" from the columns as well\n",
    "    merged_df[col] = merged_df[f\"{col}_steam\"].fillna(merged_df[f\"{col}_metacritic\"], axis=0).fillna(merged_df[col], axis=0)\n",
    "    \n",
    "string_col = ['Game Title', 'Game Genre', 'Pricing', 'Developer', 'Platform', 'Release Date']\n",
    "for col in string_col:\n",
    "    merged_df[col] = merged_df[col].str.strip().str.strip(\"[\").str.strip(\"]\").str.strip(\"'\").str.strip(\"'\").str.replace('\\u202A', '', regex=False)\n",
    "\n",
    "\n",
    "\n",
    "merged_df = merged_df[target_columns]\n",
    "merged_df"
   ]
  },
  {
   "cell_type": "code",
   "execution_count": 43,
   "metadata": {},
   "outputs": [
    {
     "data": {
      "text/plain": [
       "Game Title            object\n",
       "Game Genre            object\n",
       "Pricing               object\n",
       "Developer             object\n",
       "Release Date          object\n",
       "Platform              object\n",
       "Rating               float64\n",
       "Number of Ratings    float64\n",
       "dtype: object"
      ]
     },
     "execution_count": 43,
     "metadata": {},
     "output_type": "execute_result"
    }
   ],
   "source": [
    "merged_df.dtypes"
   ]
  },
  {
   "cell_type": "markdown",
   "metadata": {},
   "source": [
    "<h2 style=\"font-weight: bold;\">3. Data Cleaning</h2>\n",
    "\n",
    "<h3 style=\"font-weight: bold;\">3.1. Remove duplicates</h2>\n",
    "\n",
    "As seen from the above preview, the total records of the dataset is **79861** entries. However, there are duplicates in the datasets. We will have to remove them."
   ]
  },
  {
   "cell_type": "code",
   "execution_count": 44,
   "metadata": {},
   "outputs": [
    {
     "data": {
      "text/plain": [
       "(62373, 8)"
      ]
     },
     "execution_count": 44,
     "metadata": {},
     "output_type": "execute_result"
    }
   ],
   "source": [
    "# strip the string\n",
    "merged_df['Game Title'] = merged_df['Game Title'].str.strip()\n",
    "# remove duplicates\n",
    "merged_df = merged_df.drop_duplicates(subset=['Game Title'])\n",
    "merged_df.shape"
   ]
  },
  {
   "cell_type": "markdown",
   "metadata": {},
   "source": [
    "<h3 style=\"font-weight: bold;\">3.1. Fill or remove missing values</h2>\n",
    "\n",
    "Since we merged 3 datasets together, there will exist rows where values from all 3 datasets are missing, hence the **NaN** values. We will fill these missing rows with accordingly.\n",
    "\n",
    "First, we will check the missing values in the dataset."
   ]
  },
  {
   "cell_type": "code",
   "execution_count": 45,
   "metadata": {},
   "outputs": [
    {
     "data": {
      "text/plain": [
       "Game Title               0\n",
       "Game Genre            2238\n",
       "Pricing              13145\n",
       "Developer               12\n",
       "Release Date             4\n",
       "Platform             41882\n",
       "Rating                 600\n",
       "Number of Ratings       16\n",
       "dtype: int64"
      ]
     },
     "execution_count": 45,
     "metadata": {},
     "output_type": "execute_result"
    }
   ],
   "source": [
    "def getMissingValues(df: pd.DataFrame) -> pd.Series:\n",
    "    return df.isnull().sum()\n",
    "\n",
    "missing_values = getMissingValues(merged_df)\n",
    "missing_values"
   ]
  },
  {
   "cell_type": "markdown",
   "metadata": {},
   "source": [
    "**Developer, Release Date and Number of Ratings** have very few missing values (<20), we can safely remove them from the dataset without significant impact."
   ]
  },
  {
   "cell_type": "code",
   "execution_count": null,
   "metadata": {},
   "outputs": [],
   "source": [
    "merged_df = merged_df.dropna(subset=['Developer', 'Release Date', 'Number of Ratings'])"
   ]
  },
  {
   "cell_type": "markdown",
   "metadata": {},
   "source": [
    "**Game Genre** has *2238* missing values. We will fill these missing values with *mode* because it is a categorical feature."
   ]
  },
  {
   "cell_type": "code",
   "execution_count": 47,
   "metadata": {},
   "outputs": [
    {
     "name": "stdout",
     "output_type": "stream",
     "text": [
      "Missing values in Game Genre replaced with mode value:  Indie\n"
     ]
    }
   ],
   "source": [
    "# get all genre values\n",
    "genres = merged_df['Game Genre'].str.split(',').explode().str.strip(\"[\").str.strip(\"'\").str.strip(\"'\").str.strip(\"]\").dropna().value_counts()\n",
    "\n",
    "mode_genre = genres.idxmax()\n",
    "merged_df.fillna({'Game Genre': mode_genre}, inplace=True)\n",
    "print(f\"Missing values in Game Genre replaced with mode value: {mode_genre}\")"
   ]
  },
  {
   "cell_type": "markdown",
   "metadata": {},
   "source": [
    "**Pricing** column is skewed, so we will fill the missing values with the *median*.\n",
    "\n",
    "But first, there are values in `Pricing` where they do not contain a numeric value (usually \"Free to Play\" for \"Free\", etc.), we will have to convert the column to a numeric type, with non-numeric (might be Free) values as 0."
   ]
  },
  {
   "cell_type": "code",
   "execution_count": 48,
   "metadata": {},
   "outputs": [
    {
     "data": {
      "text/plain": [
       "array([nan, 'Free', 'Free To Play', '', 'Free to Play', 'Free Demo',\n",
       "       'Free Mod', 'Play for Free!', 'Install Now', 'Play the Demo',\n",
       "       'Play WARMACHINE: Tactics Demo'], dtype=object)"
      ]
     },
     "execution_count": 48,
     "metadata": {},
     "output_type": "execute_result"
    }
   ],
   "source": [
    "import re\n",
    "\n",
    "merged_df.columns\n",
    "pricing_col = merged_df['Pricing']\n",
    "\n",
    "numeric_pattern = re.compile(r'(?:\\d+)+')\n",
    "non_numeric_prices = pricing_col[~pricing_col.str.contains(numeric_pattern, na=False)].unique()\n",
    "\n",
    "non_numeric_prices"
   ]
  },
  {
   "cell_type": "markdown",
   "metadata": {},
   "source": [
    "Now that we knew non-numeric values in the `Pricing` column are mostly *free* games, we will replace them with `0`.\n",
    "\n",
    "We also need to convert the `Pricing` column to a numeric type. Preferably `float`."
   ]
  },
  {
   "cell_type": "code",
   "execution_count": 49,
   "metadata": {},
   "outputs": [],
   "source": [
    "# convert the non-numeric prices to 0\n",
    "merged_df['Pricing'] = merged_df['Pricing'].replace(non_numeric_prices, '0')\n",
    "\n",
    "# convert pricing to numeric\n",
    "merged_df['Pricing'] = merged_df['Pricing'].str.replace(r'\\$\\s*', '', regex=True).astype(float)"
   ]
  },
  {
   "cell_type": "markdown",
   "metadata": {},
   "source": [
    "There are still NaN values in the `Pricing` column. We will fill them with the median value since the column is skewed and does not follow a normal distribution."
   ]
  },
  {
   "cell_type": "code",
   "execution_count": 50,
   "metadata": {},
   "outputs": [],
   "source": [
    "median_pricing = merged_df['Pricing'].median()\n",
    "merged_df.fillna({'Pricing' : median_pricing}, inplace=True)"
   ]
  },
  {
   "cell_type": "markdown",
   "metadata": {},
   "source": [
    "**Platform** column has the most missing values, *41882*. We will fill these missing values with the *mode* since the column is categorical."
   ]
  },
  {
   "cell_type": "code",
   "execution_count": 51,
   "metadata": {},
   "outputs": [
    {
     "name": "stdout",
     "output_type": "stream",
     "text": [
      "Missing values in Platform replaced with mode value: PC\n"
     ]
    }
   ],
   "source": [
    "platforms = merged_df['Platform'].str.split(',').explode().str.strip().value_counts()\n",
    "mode_platform = platforms.idxmax()\n",
    "merged_df.fillna({'Platform': mode_platform}, inplace=True)\n",
    "print(f\"Missing values in Platform replaced with mode value: {mode_platform}\")"
   ]
  },
  {
   "cell_type": "markdown",
   "metadata": {},
   "source": [
    "**Rating** column has *600* missing values. We will fill these missing values with *median* since the rating is skewed.\n",
    "\n",
    "But first, we need to convert them all into numerical datatype."
   ]
  },
  {
   "cell_type": "code",
   "execution_count": 52,
   "metadata": {},
   "outputs": [
    {
     "name": "stdout",
     "output_type": "stream",
     "text": [
      "Missing values in Rating replaced with median value: 76.0\n"
     ]
    }
   ],
   "source": [
    "merged_df['Rating'] = merged_df['Rating'].astype(float)\n",
    "median_rating = merged_df['Rating'].median()\n",
    "merged_df.fillna({'Rating': median_rating}, inplace=True)\n",
    "print(f\"Missing values in Rating replaced with median value: {median_rating}\")"
   ]
  },
  {
   "cell_type": "markdown",
   "metadata": {},
   "source": [
    "Now that we have filled/removed missing values, we will check again to make sure there are no missing values left."
   ]
  },
  {
   "cell_type": "code",
   "execution_count": 53,
   "metadata": {},
   "outputs": [
    {
     "data": {
      "text/plain": [
       "Game Title           0\n",
       "Game Genre           0\n",
       "Pricing              0\n",
       "Developer            0\n",
       "Release Date         0\n",
       "Platform             0\n",
       "Rating               0\n",
       "Number of Ratings    0\n",
       "dtype: int64"
      ]
     },
     "execution_count": 53,
     "metadata": {},
     "output_type": "execute_result"
    }
   ],
   "source": [
    "missing_values = getMissingValues(merged_df)\n",
    "missing_values"
   ]
  },
  {
   "cell_type": "markdown",
   "metadata": {},
   "source": [
    "We will also check for the appropriate datatypes for each column."
   ]
  },
  {
   "cell_type": "code",
   "execution_count": 54,
   "metadata": {},
   "outputs": [
    {
     "data": {
      "text/plain": [
       "Game Title            object\n",
       "Game Genre            object\n",
       "Pricing              float64\n",
       "Developer             object\n",
       "Release Date          object\n",
       "Platform              object\n",
       "Rating               float64\n",
       "Number of Ratings    float64\n",
       "dtype: object"
      ]
     },
     "execution_count": 54,
     "metadata": {},
     "output_type": "execute_result"
    }
   ],
   "source": [
    "merged_df.dtypes"
   ]
  },
  {
   "cell_type": "markdown",
   "metadata": {},
   "source": [
    "**Number of Ratings** should be `uint64` instead of `float`."
   ]
  },
  {
   "cell_type": "code",
   "execution_count": 55,
   "metadata": {},
   "outputs": [],
   "source": [
    "merged_df['Number of Ratings'] = merged_df['Number of Ratings'].astype(np.uint64)"
   ]
  },
  {
   "cell_type": "code",
   "execution_count": 56,
   "metadata": {},
   "outputs": [
    {
     "data": {
      "text/plain": [
       "Game Title            object\n",
       "Game Genre            object\n",
       "Pricing              float64\n",
       "Developer             object\n",
       "Release Date          object\n",
       "Platform              object\n",
       "Rating               float64\n",
       "Number of Ratings     uint64\n",
       "dtype: object"
      ]
     },
     "execution_count": 56,
     "metadata": {},
     "output_type": "execute_result"
    }
   ],
   "source": [
    "merged_df.dtypes"
   ]
  },
  {
   "cell_type": "markdown",
   "metadata": {},
   "source": [
    "<h2 style=\"font-weight: bold;\">4. Save cleaned data</h2>\n",
    "\n",
    "Sort the data alphabetically by `Game Title` and save it as a CSV file."
   ]
  },
  {
   "cell_type": "code",
   "execution_count": 57,
   "metadata": {},
   "outputs": [
    {
     "data": {
      "text/html": [
       "<div>\n",
       "<style scoped>\n",
       "    .dataframe tbody tr th:only-of-type {\n",
       "        vertical-align: middle;\n",
       "    }\n",
       "\n",
       "    .dataframe tbody tr th {\n",
       "        vertical-align: top;\n",
       "    }\n",
       "\n",
       "    .dataframe thead th {\n",
       "        text-align: right;\n",
       "    }\n",
       "</style>\n",
       "<table border=\"1\" class=\"dataframe\">\n",
       "  <thead>\n",
       "    <tr style=\"text-align: right;\">\n",
       "      <th></th>\n",
       "      <th>Game Title</th>\n",
       "      <th>Game Genre</th>\n",
       "      <th>Pricing</th>\n",
       "      <th>Developer</th>\n",
       "      <th>Release Date</th>\n",
       "      <th>Platform</th>\n",
       "      <th>Rating</th>\n",
       "      <th>Number of Ratings</th>\n",
       "    </tr>\n",
       "  </thead>\n",
       "  <tbody>\n",
       "    <tr>\n",
       "      <th>0</th>\n",
       "      <td>! That Bastard Is Trying To Steal Our Gold !</td>\n",
       "      <td>Action, Adventure, Casual, Indie</td>\n",
       "      <td>2.99</td>\n",
       "      <td>WTFOMGames</td>\n",
       "      <td>Mar 1 2016</td>\n",
       "      <td>PC</td>\n",
       "      <td>56.0</td>\n",
       "      <td>66</td>\n",
       "    </tr>\n",
       "    <tr>\n",
       "      <th>1</th>\n",
       "      <td>! Wild Russia !</td>\n",
       "      <td>Action, Adventure, Casual</td>\n",
       "      <td>19.99</td>\n",
       "      <td>Andreev Worlds</td>\n",
       "      <td>Apr 28 2020</td>\n",
       "      <td>PC</td>\n",
       "      <td>61.0</td>\n",
       "      <td>60</td>\n",
       "    </tr>\n",
       "    <tr>\n",
       "      <th>2</th>\n",
       "      <td>!4RC4N01D!</td>\n",
       "      <td>Arcade</td>\n",
       "      <td>0.00</td>\n",
       "      <td>armogames</td>\n",
       "      <td>Jan 12, 2018</td>\n",
       "      <td>PC</td>\n",
       "      <td>4.0</td>\n",
       "      <td>4</td>\n",
       "    </tr>\n",
       "    <tr>\n",
       "      <th>3</th>\n",
       "      <td>!4RC4N01D! 2: Retro Edition</td>\n",
       "      <td>Arcade</td>\n",
       "      <td>0.00</td>\n",
       "      <td>armogames</td>\n",
       "      <td>Feb 6, 2018</td>\n",
       "      <td>PC</td>\n",
       "      <td>3.8</td>\n",
       "      <td>4</td>\n",
       "    </tr>\n",
       "    <tr>\n",
       "      <th>5</th>\n",
       "      <td>!4RC4N01D! 3: Cold Space</td>\n",
       "      <td>Arcade</td>\n",
       "      <td>0.00</td>\n",
       "      <td>armogames</td>\n",
       "      <td>Mar 8, 2018</td>\n",
       "      <td>PC</td>\n",
       "      <td>3.0</td>\n",
       "      <td>4</td>\n",
       "    </tr>\n",
       "  </tbody>\n",
       "</table>\n",
       "</div>"
      ],
      "text/plain": [
       "                                     Game Title  \\\n",
       "0  ! That Bastard Is Trying To Steal Our Gold !   \n",
       "1                               ! Wild Russia !   \n",
       "2                                    !4RC4N01D!   \n",
       "3                   !4RC4N01D! 2: Retro Edition   \n",
       "5                      !4RC4N01D! 3: Cold Space   \n",
       "\n",
       "                         Game Genre  Pricing       Developer  Release Date  \\\n",
       "0  Action, Adventure, Casual, Indie     2.99      WTFOMGames    Mar 1 2016   \n",
       "1         Action, Adventure, Casual    19.99  Andreev Worlds   Apr 28 2020   \n",
       "2                            Arcade     0.00       armogames  Jan 12, 2018   \n",
       "3                            Arcade     0.00       armogames   Feb 6, 2018   \n",
       "5                            Arcade     0.00       armogames   Mar 8, 2018   \n",
       "\n",
       "  Platform  Rating  Number of Ratings  \n",
       "0       PC    56.0                 66  \n",
       "1       PC    61.0                 60  \n",
       "2       PC     4.0                  4  \n",
       "3       PC     3.8                  4  \n",
       "5       PC     3.0                  4  "
      ]
     },
     "execution_count": 57,
     "metadata": {},
     "output_type": "execute_result"
    }
   ],
   "source": [
    "merged_df = merged_df.sort_values(by=\"Game Title\")\n",
    "merged_df.to_csv(\"cleaned_data.csv\", index=False, encoding='utf-8')\n",
    "merged_df.head()"
   ]
  }
 ],
 "metadata": {
  "kernelspec": {
   "display_name": "min_ds-env",
   "language": "python",
   "name": "python3"
  },
  "language_info": {
   "codemirror_mode": {
    "name": "ipython",
    "version": 3
   },
   "file_extension": ".py",
   "mimetype": "text/x-python",
   "name": "python",
   "nbconvert_exporter": "python",
   "pygments_lexer": "ipython3",
   "version": "3.13.0"
  }
 },
 "nbformat": 4,
 "nbformat_minor": 2
}
